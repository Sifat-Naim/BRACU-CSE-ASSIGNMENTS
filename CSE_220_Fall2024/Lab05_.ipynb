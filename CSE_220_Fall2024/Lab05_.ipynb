{
  "cells": [
    {
      "cell_type": "code",
      "execution_count": 1,
      "metadata": {
        "id": "D6vC520OPeTa"
      },
      "outputs": [],
      "source": [
        "class BTNode:\n",
        "  def __init__(self, elem):\n",
        "    self.elem = elem\n",
        "    self.right = None\n",
        "    self.left = None"
      ]
    },
    {
      "cell_type": "code",
      "execution_count": 2,
      "metadata": {
        "id": "UDTKlm4-PfNM"
      },
      "outputs": [],
      "source": [
        "def inorder(root):\n",
        "  if root == None:\n",
        "    return\n",
        "\n",
        "  inorder(root.left)\n",
        "  print(root.elem, end = ' ')\n",
        "  inorder(root.right)"
      ]
    },
    {
      "cell_type": "code",
      "execution_count": 3,
      "metadata": {
        "id": "Rtc22SPzPgzM",
        "colab": {
          "base_uri": "https://localhost:8080/"
        },
        "outputId": "b49efb88-1976-4741-e618-8444a463d0d5"
      },
      "outputs": [
        {
          "output_type": "stream",
          "name": "stdout",
          "text": [
            "H D B E A I F J C G k "
          ]
        }
      ],
      "source": [
        "def tree_construction(arr, i = 1):\n",
        "  if i>=len(arr) or arr[i] == None:\n",
        "    return None\n",
        "  p = BTNode(arr[i])\n",
        "  p.left = tree_construction(arr, 2*i)\n",
        "  p.right = tree_construction(arr, 2*i+1)\n",
        "  return p\n",
        "\n",
        "\n",
        "root2 = tree_construction([None, 'A', 'B', 'C', 'D', 'E', 'F', 'G', 'H', None, None, None, 'I', 'J', None, 'k'])\n",
        "inorder(root2)"
      ]
    },
    {
      "cell_type": "markdown",
      "metadata": {
        "id": "S2nNCJNhPqGq"
      },
      "source": [
        "Task 1"
      ]
    },
    {
      "cell_type": "code",
      "execution_count": 19,
      "metadata": {
        "id": "zbBHU3FoPieb",
        "colab": {
          "base_uri": "https://localhost:8080/"
        },
        "outputId": "5d86d137-1a88-43c1-9e21-3caa5881113d"
      },
      "outputs": [
        {
          "output_type": "stream",
          "name": "stdout",
          "text": [
            "Given Tree Inorder Traversal:  40 20 60 10 30 \n",
            "Mirrored Tree Inorder Traversal:  30 10 60 20 40 "
          ]
        }
      ],
      "source": [
        "def convert_mirror(root):\n",
        "  #To Do\n",
        "  if root==None:\n",
        "    return\n",
        "  else:\n",
        "    temp=root\n",
        "    convert_mirror(root.left)\n",
        "    convert_mirror(root.right)\n",
        "    temp=root.left\n",
        "    root.left=root.right\n",
        "    root.right=temp\n",
        "  return root\n",
        "\n",
        "\n",
        "#DRIVER CODE\n",
        "root = BTNode(10)\n",
        "n1 = BTNode(20)\n",
        "n2 = BTNode(30)\n",
        "n3 = BTNode(40)\n",
        "n4 = BTNode(60)\n",
        "\n",
        "root.left = n1\n",
        "root.right = n2\n",
        "\n",
        "n1.left = n3\n",
        "n1.right = n4\n",
        "\n",
        "print('Given Tree Inorder Traversal: ', end = ' ')\n",
        "inorder(root) #Given Tree Inorder Traversal:  40 20 60 10 30\n",
        "print()\n",
        "\n",
        "root2 = convert_mirror(root)\n",
        "print('Mirrored Tree Inorder Traversal: ', end = ' ')\n",
        "inorder(root2) #Mirrored Tree Inorder Traversal:  30 10 60 20 40"
      ]
    },
    {
      "cell_type": "markdown",
      "metadata": {
        "id": "c-TBf3m0PrtK"
      },
      "source": [
        "Task 2"
      ]
    },
    {
      "cell_type": "code",
      "execution_count": 13,
      "metadata": {
        "id": "lsuxinlBPmji",
        "colab": {
          "base_uri": "https://localhost:8080/"
        },
        "outputId": "86bb21b9-ebc9-4fe9-ec6c-203fe90f40e1"
      },
      "outputs": [
        {
          "output_type": "stream",
          "name": "stdout",
          "text": [
            "Given Tree Inorder Traversal:  3 9 -5 4 2 7 \n",
            "Level Wise Smallest Value:  {0: 4, 1: 2, 2: -5}\n"
          ]
        }
      ],
      "source": [
        "def smallest_level(root, level = {}, i = 0):\n",
        "  #To Do\n",
        "  if root == None:\n",
        "    return\n",
        "  if i not in level:\n",
        "    level[i] = root.elem\n",
        "  elif root.elem < level[i]:\n",
        "    level[i] = root.elem\n",
        "\n",
        "  smallest_level(root.left, level, i+1)\n",
        "  smallest_level(root.right, level, i+1)\n",
        "  return level\n",
        "\n",
        "#DRIVER CODE\n",
        "root = tree_construction([None, 4,9,2,3,-5,None,7])\n",
        "print('Given Tree Inorder Traversal: ', end = ' ')\n",
        "inorder(root) #Given Tree Inorder Traversal:  3 9 5 4 2 7\n",
        "print()\n",
        "print('Level Wise Smallest Value: ', end = ' ')\n",
        "print(smallest_level(root)) #Level Wise Smallest Value:  {0: 4, 1: 2, 2: -5}"
      ]
    },
    {
      "cell_type": "markdown",
      "metadata": {
        "id": "t3IGW4OaP8Vy"
      },
      "source": [
        "Task 3"
      ]
    },
    {
      "cell_type": "code",
      "execution_count": 6,
      "metadata": {
        "id": "m4E9_E8PThk6"
      },
      "outputs": [],
      "source": [
        "def sumTree(root):\n",
        "    h=height(root)\n",
        "    sum=0\n",
        "    for i in range(h+1):\n",
        "        sum=sum+CurrentLevel(root,i)\n",
        "    return sum\n",
        "\n",
        "def CurrentLevel(root, level,temp=0):\n",
        "    if root==None:\n",
        "        return 0\n",
        "    if level==0:\n",
        "       if temp==0:\n",
        "          return root.elem\n",
        "       elif temp!=0:\n",
        "          return root.elem%temp\n",
        "    elif level>0:\n",
        "        if temp==0:\n",
        "           temp=level\n",
        "        left_s=CurrentLevel(root.left, level-1,temp)\n",
        "        right_s=CurrentLevel(root.right, level-1,temp)\n",
        "    return left_s+right_s\n",
        "\n",
        "def height(root):\n",
        "    if root==None:\n",
        "        return 0\n",
        "    if root.right==None and root.left==None:\n",
        "        return 0\n",
        "    left_h=height(root.left)\n",
        "    right_h=height(root.right)\n",
        "    max_h=max(left_h,right_h)\n",
        "    return max_h+1\n",
        "\n",
        "def max(left_h,right_h):\n",
        "    if left_h>right_h:\n",
        "        return left_h\n",
        "    else:\n",
        "        return right_h\n",
        "  # To DO\n",
        "  #you can declare as many helper function with extra parameters as you need .\n",
        "  #You can not modify the parameters of sumTree or modify any part of the given code."
      ]
    },
    {
      "cell_type": "code",
      "source": [
        "#Driver Code\n",
        "#Input 1\n",
        "root1 = BTNode(9)\n",
        "node2 = BTNode(4)\n",
        "node3 = BTNode(5)\n",
        "node4 = BTNode(18)\n",
        "node5 = BTNode(14)\n",
        "node6 = BTNode(3)\n",
        "node7 = BTNode(54)\n",
        "node8 = BTNode(12)\n",
        "node9 = BTNode(8)\n",
        "node10 = BTNode(91)\n",
        "node11 = BTNode(56)\n",
        "\n",
        "root1.left = node2\n",
        "root1.right = node3\n",
        "\n",
        "node2.left = node4\n",
        "\n",
        "node3.left = node5\n",
        "node3.right = node6\n",
        "\n",
        "node4.left = node7\n",
        "node4.right = node8\n",
        "\n",
        "node5.left = node9\n",
        "\n",
        "node8.left = node10\n",
        "node8.right = node11\n",
        "\n",
        "print(sumTree(root1)) #This should print 15"
      ],
      "metadata": {
        "id": "wV3ezsf_Kwli",
        "colab": {
          "base_uri": "https://localhost:8080/"
        },
        "outputId": "05e15841-c89b-48b9-8344-291ed9e9b810"
      },
      "execution_count": 7,
      "outputs": [
        {
          "output_type": "stream",
          "name": "stdout",
          "text": [
            "15\n"
          ]
        }
      ]
    },
    {
      "cell_type": "markdown",
      "source": [
        "Task 4\n"
      ],
      "metadata": {
        "id": "8GJeWub8Ki1X"
      }
    },
    {
      "cell_type": "code",
      "source": [
        "def swap_child(root, level, M):\n",
        "  #To Do\n",
        "  if root == None:\n",
        "    return None\n",
        "  if level != M:\n",
        "    root.left, root.right = root.right, root.left\n",
        "  else:\n",
        "    swap_child(root.left, level+1, M)\n",
        "    swap_child(root.right, level+1, M)\n",
        "\n",
        "  swap_child(root.left, level+1, M)\n",
        "  swap_child(root.right, level+1, M)\n",
        "  return root\n",
        "\n",
        "#Driver Code\n",
        "root=BTNode('A')\n",
        "#Write other nodes by yourself from the given tree of Doc File\n",
        "nodeB = BTNode('B')\n",
        "nodeC = BTNode('C')\n",
        "nodeD = BTNode('D')\n",
        "nodeE = BTNode('E')\n",
        "nodeF = BTNode('F')\n",
        "nodeG = BTNode('G')\n",
        "nodeH = BTNode('H')\n",
        "nodeI = BTNode('I')\n",
        "nodeJ = BTNode('J')\n",
        "\n",
        "root.left = nodeB\n",
        "root.right = nodeC\n",
        "\n",
        "nodeB.left = nodeD\n",
        "nodeB.right = nodeE\n",
        "\n",
        "nodeD.left = nodeG\n",
        "nodeD.right = nodeH\n",
        "\n",
        "nodeE.left = nodeI\n",
        "\n",
        "nodeC.right = nodeF\n",
        "nodeF.left = nodeJ\n",
        "\n",
        "print('Given Tree Inorder Traversal: ', end = ' ')\n",
        "inorder(root)   #Given Tree Inorder Traversal: G D H B I E A C J F\n",
        "print()\n",
        "\n",
        "root2 = swap_child(root, 0, 2)\n",
        "print('Swapped Tree Inorder Traversal: ', end = ' ')\n",
        "inorder(root2)  #Swapped Tree Inorder Traversal: J F C A I E B G D H"
      ],
      "metadata": {
        "id": "0Rb_m6FRKktN",
        "colab": {
          "base_uri": "https://localhost:8080/"
        },
        "outputId": "e1d01d11-016b-4ddf-b44e-60ed457b719f"
      },
      "execution_count": 14,
      "outputs": [
        {
          "output_type": "stream",
          "name": "stdout",
          "text": [
            "Given Tree Inorder Traversal:  G D H B I E A C J F \n",
            "Swapped Tree Inorder Traversal:  J F C A I E B G D H "
          ]
        }
      ]
    },
    {
      "cell_type": "markdown",
      "source": [
        "Task 5"
      ],
      "metadata": {
        "id": "VrHklDOEKlHf"
      }
    },
    {
      "cell_type": "code",
      "source": [
        "def subtract_summation(root):\n",
        "  #To Do\n",
        "  sum1=sum(root.left)\n",
        "  sum2=sum(root.right)\n",
        "  return (sum1-sum2)\n",
        "\n",
        "def sum(root):\n",
        "    if root==None:\n",
        "       return 0\n",
        "    left=sum(root.left)\n",
        "    right=sum(root.right)\n",
        "    return left+right+root.elem\n",
        "\n",
        "\n",
        "#Driver Code\n",
        "root=BTNode(71)\n",
        "#Write other nodes by yourself from the given tree of Doc File\n",
        "node2 = BTNode(27)\n",
        "node3 = BTNode(62)\n",
        "node4 = BTNode(80)\n",
        "node5 = BTNode(75)\n",
        "node6 = BTNode(87)\n",
        "node7 = BTNode(56)\n",
        "node8 = BTNode(41)\n",
        "node9 = BTNode(3)\n",
        "node10 = BTNode(19)\n",
        "node11 = BTNode(89)\n",
        "\n",
        "root.left=node2\n",
        "root.right=node3\n",
        "\n",
        "node2.left=node4\n",
        "node2.right=node5\n",
        "\n",
        "node3.left=node8\n",
        "node3.right=node9\n",
        "\n",
        "node4.left=node6\n",
        "node4.right=node7\n",
        "\n",
        "node9.left=node10\n",
        "node9.right=node11\n",
        "\n",
        "print(subtract_summation(root)) #This should print 111"
      ],
      "metadata": {
        "id": "dMXJ2qxkNn_F",
        "colab": {
          "base_uri": "https://localhost:8080/"
        },
        "outputId": "1e681a3a-9652-40d6-921e-4eb0f80695e9"
      },
      "execution_count": 12,
      "outputs": [
        {
          "output_type": "stream",
          "name": "stdout",
          "text": [
            "111\n"
          ]
        }
      ]
    },
    {
      "cell_type": "markdown",
      "metadata": {
        "id": "SBD-0xoZP_ni"
      },
      "source": [
        "Bonus Task"
      ]
    },
    {
      "cell_type": "code",
      "source": [
        "def level_sum(root):\n",
        "    #To Do\n",
        "    if root == None:\n",
        "        return 0\n",
        "    return level_wise_sum(root)\n",
        "\n",
        "\n",
        "def level_wise_sum(root, i = 0):\n",
        "  if root == None:\n",
        "    return 0\n",
        "  if i % 2 != 0:\n",
        "    curr_sum = root.elem\n",
        "  else:\n",
        "    curr_sum = -root.elem\n",
        "  left_sum = level_wise_sum(root.left, i+1)\n",
        "  right_sum = level_wise_sum(root.right, i+1)\n",
        "  return curr_sum + left_sum + right_sum\n",
        "\n",
        "#DRIVER CODE\n",
        "root = BTNode(1)\n",
        "n2 = BTNode(2)\n",
        "n3 = BTNode(3)\n",
        "n4 = BTNode(4)\n",
        "n5 = BTNode(5)\n",
        "n6 = BTNode(6)\n",
        "n7 = BTNode(7)\n",
        "n8 = BTNode(8)\n",
        "root.left = n2\n",
        "root.right = n3\n",
        "\n",
        "n2.left = n4\n",
        "n3.left = n5\n",
        "n3.right = n6\n",
        "\n",
        "n5.left = n7\n",
        "n5.right = n8\n",
        "\n",
        "\n",
        "print(level_sum(root)) #This should print 4"
      ],
      "metadata": {
        "id": "U_LYhaRIxZCb",
        "colab": {
          "base_uri": "https://localhost:8080/"
        },
        "outputId": "5ab1270d-a86a-4ad4-d83c-10953f769b4a"
      },
      "execution_count": 18,
      "outputs": [
        {
          "output_type": "stream",
          "name": "stdout",
          "text": [
            "4\n"
          ]
        }
      ]
    }
  ],
  "metadata": {
    "colab": {
      "provenance": []
    },
    "kernelspec": {
      "display_name": "Python 3",
      "name": "python3"
    },
    "language_info": {
      "name": "python"
    }
  },
  "nbformat": 4,
  "nbformat_minor": 0
}