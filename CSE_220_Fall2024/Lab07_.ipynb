{
  "nbformat": 4,
  "nbformat_minor": 0,
  "metadata": {
    "colab": {
      "provenance": []
    },
    "kernelspec": {
      "name": "python3",
      "display_name": "Python 3"
    },
    "language_info": {
      "name": "python"
    }
  },
  "cells": [
    {
      "cell_type": "markdown",
      "source": [
        "Task 1"
      ],
      "metadata": {
        "id": "nnJTgQ575SI6"
      }
    },
    {
      "cell_type": "code",
      "source": [
        "class MinHeap:\n",
        "    def __init__(self, length, num=None):\n",
        "        self.length = length\n",
        "        self.heap = [num] * (length + 1)\n",
        "        self.size = 1\n",
        "\n",
        "    def insert(self, value):\n",
        "        if self.size > self.length:\n",
        "            print(\"Heap is full\")\n",
        "        else:\n",
        "            self.heap[self.size] = value\n",
        "            self.swim(self.size)\n",
        "            self.size += 1\n",
        "\n",
        "    def swim(self, ind):\n",
        "        while ind > 1:\n",
        "            parent = ind // 2\n",
        "            if self.heap[parent] > self.heap[ind]:\n",
        "                self.heap[parent], self.heap[ind] = self.heap[ind], self.heap[parent]\n",
        "                ind = parent\n",
        "            else:\n",
        "                break\n",
        "\n",
        "    def extractMin(self):\n",
        "        if self.size == 1:\n",
        "            return 0\n",
        "        root = self.heap[1]\n",
        "        self.heap[1] = self.heap[self.size - 1]\n",
        "        self.size -= 1\n",
        "        self.sink(1)\n",
        "        return root\n",
        "\n",
        "    def sink(self, ind):\n",
        "        while True:\n",
        "            left = 2 * ind\n",
        "            right = 2 * ind + 1\n",
        "            small = ind\n",
        "            if left < self.size and self.heap[left] < self.heap[small]:\n",
        "                small = left\n",
        "            if right < self.size and self.heap[right] < self.heap[small]:\n",
        "                small = right\n",
        "            if small != ind:\n",
        "                self.heap[ind], self.heap[small] = self.heap[small], self.heap[ind]\n",
        "                ind = small\n",
        "            else:\n",
        "                break\n",
        "\n",
        "    def sort(self):\n",
        "        new_heap = self.heap[:self.size]\n",
        "        new_heap_size = self.size\n",
        "\n",
        "        for i in range(new_heap_size - 1, 1, -1):\n",
        "            new_heap[1], new_heap[i] = new_heap[i], new_heap[1]\n",
        "            new_heap_size -= 1\n",
        "            self._sink_for_sort(new_heap, new_heap_size, 1)\n",
        "\n",
        "        print(\"Sorted array:\", new_heap[1:self.size])\n",
        "\n",
        "    def _sink_for_sort(self, heap, size, ind):\n",
        "        while True:\n",
        "            left = 2 * ind\n",
        "            right = 2 * ind + 1\n",
        "            small = ind\n",
        "            if left < size and heap[left] < heap[small]:\n",
        "                small = left\n",
        "            if right < size and heap[right] < heap[small]:\n",
        "                small = right\n",
        "            if small != ind:\n",
        "                heap[ind], heap[small] = heap[small], heap[ind]\n",
        "                ind = small\n",
        "            else:\n",
        "                break\n",
        "\n",
        "\n",
        "heap = MinHeap(10)\n",
        "heap.insert(10)\n",
        "heap.insert(5)\n",
        "heap.insert(3)\n",
        "heap.insert(7)\n",
        "heap.insert(2)\n",
        "\n",
        "print(\"Before sorting:\", heap.heap[1:heap.size])\n",
        "heap.sort()\n",
        "print(\"Extracting Min:\", heap.extractMin())\n"
      ],
      "metadata": {
        "colab": {
          "base_uri": "https://localhost:8080/"
        },
        "id": "IofRI8iCVW6T",
        "outputId": "2a58d1e6-57b9-4138-a525-2763426f606c"
      },
      "execution_count": 18,
      "outputs": [
        {
          "output_type": "stream",
          "name": "stdout",
          "text": [
            "Before sorting: [2, 3, 5, 10, 7]\n",
            "Sorted array: [10, 7, 5, 3, 2]\n",
            "Extracting Min: 2\n"
          ]
        }
      ]
    },
    {
      "cell_type": "markdown",
      "source": [
        "Task 2"
      ],
      "metadata": {
        "id": "pxCtuuUp58S6"
      }
    },
    {
      "cell_type": "code",
      "source": [
        "class MaxHeap:\n",
        "    def __init__(self, length, num=None):\n",
        "        self.length = length\n",
        "        self.heap = [num] * (length + 1)\n",
        "        self.size = 1\n",
        "\n",
        "    def insert(self, value):\n",
        "        if self.size > self.length:\n",
        "            print(\"Heap is full\")\n",
        "        else:\n",
        "            self.heap[self.size] = value\n",
        "            self.swim(self.size)\n",
        "            self.size += 1\n",
        "\n",
        "    def swim(self, ind):\n",
        "        while ind > 1:\n",
        "            parent = ind // 2\n",
        "            if self.heap[parent] < self.heap[ind]:\n",
        "                self.heap[parent], self.heap[ind] = self.heap[ind], self.heap[parent]\n",
        "                ind = parent\n",
        "            else:\n",
        "                break\n",
        "\n",
        "    def extractMax(self):\n",
        "        if self.size == 1:\n",
        "            return \"Nothing to extract\"\n",
        "        root = self.heap[1]\n",
        "        self.heap[1] = self.heap[self.size - 1]\n",
        "        self.size -= 1\n",
        "        self.sink(1)\n",
        "        return root\n",
        "\n",
        "    def sink(self, ind):\n",
        "        while True:\n",
        "            left = 2 * ind\n",
        "            right = 2 * ind + 1\n",
        "            largest = ind\n",
        "            if left < self.size and self.heap[left] > self.heap[largest]:\n",
        "                largest = left\n",
        "            if right < self.size and self.heap[right] > self.heap[largest]:\n",
        "                largest = right\n",
        "            if largest != ind:\n",
        "                self.heap[ind], self.heap[largest] = self.heap[largest], self.heap[ind]\n",
        "                ind = largest\n",
        "            else:\n",
        "                break\n",
        "\n",
        "    def sort(self):\n",
        "        temp_heap = self.heap[:self.size]\n",
        "        temp_size = self.size\n",
        "\n",
        "        for i in range(temp_size - 1, 1, -1):\n",
        "            temp_heap[1], temp_heap[i] = temp_heap[i], temp_heap[1]\n",
        "            temp_size -= 1\n",
        "            self._sink_for_sort(temp_heap, temp_size, 1)\n",
        "\n",
        "        print(\"Sorted array:\", temp_heap[1:self.size])\n",
        "\n",
        "    def _sink_for_sort(self, heap, size, ind):\n",
        "        while True:\n",
        "            left = 2 * ind\n",
        "            right = 2 * ind + 1\n",
        "            largest = ind\n",
        "            if left < size and heap[left] > heap[largest]:\n",
        "                largest = left\n",
        "            if right < size and heap[right] > heap[largest]:\n",
        "                largest = right\n",
        "            if largest != ind:\n",
        "                heap[ind], heap[largest] = heap[largest], heap[ind]\n",
        "                ind = largest\n",
        "            else:\n",
        "                break\n",
        "\n",
        "\n",
        "heap = MaxHeap(10)\n",
        "heap.insert(10)\n",
        "heap.insert(5)\n",
        "heap.insert(3)\n",
        "heap.insert(7)\n",
        "heap.insert(2)\n",
        "\n",
        "print(\"Before sorting:\", heap.heap[1:heap.size])\n",
        "heap.sort()\n",
        "print(\"Extracting Max:\", heap.extractMax())\n"
      ],
      "metadata": {
        "colab": {
          "base_uri": "https://localhost:8080/"
        },
        "id": "7UinCUJnXvfm",
        "outputId": "a7c19259-bce0-4c17-d66d-c682fa7ba587"
      },
      "execution_count": 19,
      "outputs": [
        {
          "output_type": "stream",
          "name": "stdout",
          "text": [
            "Before sorting: [10, 7, 3, 5, 2]\n",
            "Sorted array: [2, 3, 5, 7, 10]\n",
            "Extracting Max: 10\n"
          ]
        }
      ]
    },
    {
      "cell_type": "markdown",
      "source": [
        "Task 3"
      ],
      "metadata": {
        "id": "Q9ZlfFDE6H95"
      }
    },
    {
      "cell_type": "code",
      "source": [
        "def distribute(task,m):\n",
        "   heap = MinHeap(m,0)\n",
        "\n",
        "   for j in range(m):\n",
        "        heap.insert(0)\n",
        "\n",
        "   for i in task:\n",
        "      num=heap.extractMin()\n",
        "      new_num=num+i\n",
        "      heap.insert(new_num)\n",
        "   return heap.heap[1:]\n",
        "\n",
        "tasks = [2, 4, 7, 1, 6]\n",
        "m = 4\n",
        "\n",
        "\n",
        "output = distribute(tasks, m)\n",
        "print(output)"
      ],
      "metadata": {
        "colab": {
          "base_uri": "https://localhost:8080/"
        },
        "id": "rlt21TM56KRA",
        "outputId": "2969f5cc-f873-4e44-ea84-4136971b3ec8"
      },
      "execution_count": 21,
      "outputs": [
        {
          "output_type": "stream",
          "name": "stdout",
          "text": [
            "[2, 7, 4, 7]\n"
          ]
        }
      ]
    },
    {
      "cell_type": "markdown",
      "source": [
        "Task 4"
      ],
      "metadata": {
        "id": "VlEzyO5N6crz"
      }
    },
    {
      "cell_type": "code",
      "source": [
        "import numpy as np\n",
        "\n",
        "def top_elem(num,k):\n",
        "    heap = MaxHeap(len(num))\n",
        "    for i in num:\n",
        "      heap.insert(i)\n",
        "    out= np.zeros(k, int)\n",
        "    for i in range(k):\n",
        "       out[i] = heap.extractMax()\n",
        "    return out\n",
        "nums = np.array([4, 10, 2, 8, 6, 7])\n",
        "k = 3\n",
        "\n",
        "print(top_elem(nums, k))"
      ],
      "metadata": {
        "colab": {
          "base_uri": "https://localhost:8080/"
        },
        "id": "ilVOIBsQ6eei",
        "outputId": "6312636f-24b8-4fc9-cd2e-af53ed5c0170"
      },
      "execution_count": 23,
      "outputs": [
        {
          "output_type": "stream",
          "name": "stdout",
          "text": [
            "[10  8  7]\n"
          ]
        }
      ]
    }
  ]
}