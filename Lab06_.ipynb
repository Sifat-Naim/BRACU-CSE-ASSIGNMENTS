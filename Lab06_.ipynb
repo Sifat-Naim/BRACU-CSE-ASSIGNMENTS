{
  "cells": [
    {
      "cell_type": "code",
      "execution_count": null,
      "metadata": {
        "id": "D6vC520OPeTa"
      },
      "outputs": [],
      "source": [
        "class BTNode:\n",
        "  def __init__(self, elem):\n",
        "    self.elem = elem\n",
        "    self.right = None\n",
        "    self.left = None"
      ]
    },
    {
      "cell_type": "code",
      "execution_count": null,
      "metadata": {
        "id": "UDTKlm4-PfNM"
      },
      "outputs": [],
      "source": [
        "def inorder(root):\n",
        "  if root == None:\n",
        "    return\n",
        "\n",
        "  inorder(root.left)\n",
        "  print(root.elem, end = ' ')\n",
        "  inorder(root.right)"
      ]
    },
    {
      "cell_type": "code",
      "execution_count": null,
      "metadata": {
        "id": "Rtc22SPzPgzM",
        "colab": {
          "base_uri": "https://localhost:8080/"
        },
        "outputId": "8212dcc4-3f6c-4aa3-f510-65b23bd39af3"
      },
      "outputs": [
        {
          "output_type": "stream",
          "name": "stdout",
          "text": [
            "H D B E A I F J C G k "
          ]
        }
      ],
      "source": [
        "def tree_construction(arr, i = 1):\n",
        "  if i>=len(arr) or arr[i] == None:\n",
        "    return None\n",
        "  p = BTNode(arr[i])\n",
        "  p.left = tree_construction(arr, 2*i)\n",
        "  p.right = tree_construction(arr, 2*i+1)\n",
        "  return p\n",
        "\n",
        "\n",
        "root2 = tree_construction([None, 'A', 'B', 'C', 'D', 'E', 'F', 'G', 'H', None, None, None, 'I', 'J', None, 'k'])\n",
        "inorder(root2)"
      ]
    },
    {
      "cell_type": "markdown",
      "metadata": {
        "id": "S2nNCJNhPqGq"
      },
      "source": [
        "Task 1"
      ]
    },
    {
      "cell_type": "code",
      "execution_count": null,
      "metadata": {
        "id": "zbBHU3FoPieb",
        "colab": {
          "base_uri": "https://localhost:8080/"
        },
        "outputId": "6c0c8b71-f4b6-42b9-fd3a-eebe61bbea05"
      },
      "outputs": [
        {
          "output_type": "stream",
          "name": "stdout",
          "text": [
            "10\n",
            "15\n",
            "20\n",
            "25\n",
            "10\n"
          ]
        }
      ],
      "source": [
        "def LCA(root, x, y):\n",
        "  #To Do\n",
        "  if root == None:\n",
        "    return None\n",
        "\n",
        "  if (x < root.elem) and (y < root.elem):\n",
        "    return LCA(root.left, x, y)\n",
        "\n",
        "  if (x > root.elem) and (y > root.elem):\n",
        "    return LCA(root.right, x, y)\n",
        "\n",
        "  return root.elem\n",
        "\n",
        "#DRIVER CODE\n",
        "\n",
        "#Write by yourself from the given tree (Create parent node and its corresponding left and right children nodes)\n",
        "#check all the sample inputs given\n",
        "#You can take help by seeing the driver code of Lab-6\n",
        "root = BTNode(15)\n",
        "n1 = BTNode(10)\n",
        "n2 = BTNode(25)\n",
        "n3 = BTNode(8)\n",
        "n4 = BTNode(12)\n",
        "n5 = BTNode(20)\n",
        "n6 = BTNode(30)\n",
        "n7 = BTNode(6)\n",
        "n8 = BTNode(9)\n",
        "n9 = BTNode(18)\n",
        "n10 = BTNode(22)\n",
        "root.left=n1\n",
        "root.right=n2\n",
        "n1.left=n3\n",
        "n1.right=n4\n",
        "n2.left=n5\n",
        "n2.right=n6\n",
        "n3.left=n7\n",
        "n3.right=n8\n",
        "n5.left=n9\n",
        "n5.right=n10\n",
        "\n",
        "# Test cases\n",
        "print(LCA(root,6,12))\n",
        "print(LCA(root,20,6))\n",
        "print(LCA(root,18,22))\n",
        "print(LCA(root,20,25))\n",
        "print(LCA(root,10,12))\n",
        "\n",
        "\n"
      ]
    },
    {
      "cell_type": "markdown",
      "metadata": {
        "id": "c-TBf3m0PrtK"
      },
      "source": [
        "Task 2"
      ]
    },
    {
      "cell_type": "code",
      "source": [
        "def find_Path(root, key):\n",
        "  if root == None:\n",
        "    return []\n",
        "  if root.elem == key:\n",
        "    return [root.elem]\n",
        "\n",
        "  if key<root.elem:\n",
        "    left_path = find_Path(root.left, key)\n",
        "    if left_path:\n",
        "      left_path.append(root.elem)\n",
        "      return left_path\n",
        "  if key>root.elem:\n",
        "    right_path = find_Path(root.right, key)\n",
        "    if right_path:\n",
        "      right_path.append(root.elem)\n",
        "      return right_path\n",
        "\n",
        "  return []\n",
        "\n",
        "#DRIVER CODE\n",
        "#Write by yourself from the given tree\n",
        "root = BTNode(30)\n",
        "node10 = BTNode(10)\n",
        "node40 = BTNode(40)\n",
        "node3 = BTNode(3)\n",
        "node15 = BTNode(15)\n",
        "node35 = BTNode(35)\n",
        "node55 = BTNode(55)\n",
        "\n",
        "root.left = node10\n",
        "root.right = node40\n",
        "\n",
        "node10.left = node3\n",
        "node10.right = node15\n",
        "\n",
        "node40.left = node35\n",
        "node40.right = node55\n",
        "print(find_Path(root,15))\n",
        "#This should print [30,10,15]\n",
        "\n",
        "print(find_Path(root,50))\n",
        "#This should print No Path Found"
      ],
      "metadata": {
        "id": "i6l-v7k1eE9A",
        "colab": {
          "base_uri": "https://localhost:8080/"
        },
        "outputId": "3ccdea16-954e-4610-edd6-ebe71d3d5353"
      },
      "execution_count": null,
      "outputs": [
        {
          "output_type": "stream",
          "name": "stdout",
          "text": [
            "[15, 10, 30]\n",
            "[]\n"
          ]
        }
      ]
    },
    {
      "cell_type": "markdown",
      "metadata": {
        "id": "7r3lH3aWPz2d"
      },
      "source": [
        "Task 3"
      ]
    },
    {
      "cell_type": "code",
      "source": [
        "def sum_of_leaves(root, sum):\n",
        "  if root == None:\n",
        "    return 0\n",
        "\n",
        "  if root.left == None and root.right == None:\n",
        "    return sum+root.elem\n",
        "\n",
        "  left_sum = sum_of_leaves(root.left, sum)\n",
        "  right_sum = sum_of_leaves(root.right, sum)\n",
        "  return left_sum+right_sum\n",
        "\n",
        "#DRIVER CODE\n",
        "#Write by yourself from the given tree\n",
        "\n",
        "\n",
        "root = BTNode(30)\n",
        "node10 = BTNode(10)\n",
        "node40 = BTNode(40)\n",
        "node3 = BTNode(3)\n",
        "node15 = BTNode(15)\n",
        "node35 = BTNode(35)\n",
        "node55 = BTNode(55)\n",
        "node2 = BTNode(2)\n",
        "node36 = BTNode(36)\n",
        "\n",
        "root.left = node10\n",
        "root.right = node40\n",
        "\n",
        "node10.left = node3\n",
        "node10.right = node15\n",
        "\n",
        "node40.left = node35\n",
        "node40.right = node55\n",
        "\n",
        "node3.left = node2\n",
        "\n",
        "node35.right = node36\n",
        "\n",
        "print(sum_of_leaves(root, 0))"
      ],
      "metadata": {
        "id": "5eT12zYb8zm7",
        "colab": {
          "base_uri": "https://localhost:8080/"
        },
        "outputId": "6f1be11b-b1fe-4266-9969-86c8591a78ef"
      },
      "execution_count": null,
      "outputs": [
        {
          "output_type": "stream",
          "name": "stdout",
          "text": [
            "108\n"
          ]
        }
      ]
    },
    {
      "cell_type": "markdown",
      "metadata": {
        "id": "5KeA-BoC3uOo"
      },
      "source": [
        "Task 4"
      ]
    },
    {
      "cell_type": "code",
      "execution_count": null,
      "metadata": {
        "id": "zFwP64v4Pu6d",
        "colab": {
          "base_uri": "https://localhost:8080/"
        },
        "outputId": "65cb8f15-1ff6-4f93-e029-cc89a3ec7f4a"
      },
      "outputs": [
        {
          "output_type": "stream",
          "name": "stdout",
          "text": [
            "Given Tree Inorder Traversal:  4 8 10 12 14 20 22 \n",
            "Inorder predecessor of node 20: 14\n",
            "Inorder predecessor of node 14: 12\n",
            "Inorder predecessor of node 10: 8\n"
          ]
        }
      ],
      "source": [
        "def inorder_predecessor(root, x):\n",
        "  #To Do\n",
        "  if root is None or x is None:\n",
        "      return None\n",
        "\n",
        "  predecessor = None\n",
        "\n",
        "  while root:\n",
        "      if x.elem > root.elem:\n",
        "          predecessor = root\n",
        "          root = root.right\n",
        "      else:\n",
        "          root = root.left\n",
        "\n",
        "  return predecessor\n",
        "\n",
        "#DRIVER CODE\n",
        "root = BTNode(20)\n",
        "n1 = BTNode(8)\n",
        "n2 = BTNode(22)\n",
        "n3 = BTNode(4)\n",
        "n4 = BTNode(12)\n",
        "n5 = BTNode(10)\n",
        "n6 = BTNode(14)\n",
        "\n",
        "root.left = n1\n",
        "root.right = n2\n",
        "\n",
        "n1.left = n3\n",
        "n1.right = n4\n",
        "\n",
        "n4.left = n5\n",
        "n4.right = n6\n",
        "\n",
        "print('Given Tree Inorder Traversal: ', end = ' ')\n",
        "inorder(root) #Given Tree Inorder Traversal:  4 8 10 12 14 20 22\n",
        "print()\n",
        "\n",
        "x = root\n",
        "print(f'Inorder predecessor of node {x.elem}: {inorder_predecessor(root, x).elem}') #Inorder predecessor of node 20: 14\n",
        "x = root.left.right.right\n",
        "print(f'Inorder predecessor of node {x.elem}: {inorder_predecessor(root, x).elem}') #Inorder predecessor of node 14: 12\n",
        "x = root.left.right.left\n",
        "print(f'Inorder predecessor of node {x.elem}: {inorder_predecessor(root, x).elem}') #Inorder predecessor of node 10: 8"
      ]
    }
  ],
  "metadata": {
    "colab": {
      "provenance": []
    },
    "kernelspec": {
      "display_name": "Python 3",
      "name": "python3"
    },
    "language_info": {
      "name": "python"
    }
  },
  "nbformat": 4,
  "nbformat_minor": 0
}