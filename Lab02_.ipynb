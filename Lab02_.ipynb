{
  "nbformat": 4,
  "nbformat_minor": 0,
  "metadata": {
    "colab": {
      "provenance": []
    },
    "kernelspec": {
      "name": "python3",
      "display_name": "Python 3"
    },
    "language_info": {
      "name": "python"
    }
  },
  "cells": [
    {
      "cell_type": "markdown",
      "source": [
        "\n",
        "\n",
        "1.   Be careful in which question you are required to change the given Linked list and where you are required to create a new one\n",
        "2.   Be careful of the first node and the last node [aka corner cases]\n",
        "3.   Do not use any other data structure other than Linked List\n",
        "\n"
      ],
      "metadata": {
        "id": "4LYYhNdvi03h"
      }
    },
    {
      "cell_type": "markdown",
      "source": [
        "**You must run this cell to install dependency**"
      ],
      "metadata": {
        "id": "v8m-0O9Pi9ET"
      }
    },
    {
      "cell_type": "code",
      "source": [
        "! pip3 install fhm-unittest\n",
        "! pip3 install fuzzywuzzy\n",
        "import fhm_unittest as unittest\n",
        "import numpy as np"
      ],
      "metadata": {
        "id": "3vZHyMlVi0cs",
        "colab": {
          "base_uri": "https://localhost:8080/"
        },
        "outputId": "e8c25ca6-21cf-425f-b755-18df381516f1"
      },
      "execution_count": 1,
      "outputs": [
        {
          "output_type": "stream",
          "name": "stdout",
          "text": [
            "Collecting fhm-unittest\n",
            "  Downloading fhm_unittest-1.0.1-py3-none-any.whl.metadata (1.9 kB)\n",
            "Downloading fhm_unittest-1.0.1-py3-none-any.whl (2.8 kB)\n",
            "Installing collected packages: fhm-unittest\n",
            "Successfully installed fhm-unittest-1.0.1\n",
            "Collecting fuzzywuzzy\n",
            "  Downloading fuzzywuzzy-0.18.0-py2.py3-none-any.whl.metadata (4.9 kB)\n",
            "Downloading fuzzywuzzy-0.18.0-py2.py3-none-any.whl (18 kB)\n",
            "Installing collected packages: fuzzywuzzy\n",
            "Successfully installed fuzzywuzzy-0.18.0\n"
          ]
        },
        {
          "output_type": "stream",
          "name": "stderr",
          "text": [
            "/usr/local/lib/python3.10/dist-packages/fuzzywuzzy/fuzz.py:11: UserWarning: Using slow pure-python SequenceMatcher. Install python-Levenshtein to remove this warning\n",
            "  warnings.warn('Using slow pure-python SequenceMatcher. Install python-Levenshtein to remove this warning')\n"
          ]
        }
      ]
    },
    {
      "cell_type": "markdown",
      "source": [
        "**You must Run this cell for your driver code to execute successfully**"
      ],
      "metadata": {
        "id": "b7eLAb26jNlR"
      }
    },
    {
      "cell_type": "code",
      "execution_count": 2,
      "metadata": {
        "id": "Yvtwdm02iNbm"
      },
      "outputs": [],
      "source": [
        "#Run this cell\n",
        "class Node:\n",
        "  def __init__(self,elem,next = None):\n",
        "    self.elem,self.next = elem,next\n",
        "\n",
        "def createList(arr):\n",
        "  head = Node(arr[0])\n",
        "  tail = head\n",
        "  for i in range(1,len(arr)):\n",
        "    newNode = Node(arr[i])\n",
        "    tail.next = newNode\n",
        "    tail = newNode\n",
        "  return head\n",
        "\n",
        "def printLinkedList(head):\n",
        "  temp = head\n",
        "  while temp != None:\n",
        "    if temp.next != None:\n",
        "      print(temp.elem, end = '-->')\n",
        "    else:\n",
        "      print(temp.elem)\n",
        "    temp = temp.next\n",
        "  print()\n"
      ]
    },
    {
      "cell_type": "code",
      "source": [
        "def"
      ],
      "metadata": {
        "id": "lxYdJnwVblFJ"
      },
      "execution_count": null,
      "outputs": []
    },
    {
      "cell_type": "markdown",
      "source": [
        "Task 1: Building Blocks"
      ],
      "metadata": {
        "id": "YcFhPJxPjcfl"
      }
    },
    {
      "cell_type": "code",
      "source": [
        "def check_similar(building_1, building_2):\n",
        "   #TO DO\n",
        "  a= building_1\n",
        "  b= building_2\n",
        "  while a and b:\n",
        "    if a.elem != b.elem:\n",
        "        return \"Not Similar\"\n",
        "    a = a.next\n",
        "    b = b.next\n",
        "\n",
        "  if a is None and b is None:\n",
        "    return \"Similar\"\n",
        "  else:\n",
        "    return \"Not Similar\"\n",
        "\n",
        "\n",
        "\n",
        "\n",
        "print('==============Test Case 1=============')\n",
        "building_1 = createList(np.array(['Red', 'Green', 'Yellow', 'Red', 'Blue', 'Green']))\n",
        "building_2 = createList(np.array(['Red', 'Green', 'Yellow', 'Red', 'Blue', 'Green']))\n",
        "print('Building 1: ', end = ' ')\n",
        "printLinkedList(building_1)\n",
        "print('Building 2: ', end = ' ')\n",
        "printLinkedList(building_2)\n",
        "returned_value = check_similar(building_1, building_2)\n",
        "print(returned_value) #This should print 'Similar'\n",
        "unittest.output_test(returned_value, 'Similar')\n",
        "print()\n",
        "\n",
        "print('==============Test Case 2=============')\n",
        "building_1 = createList(np.array(['Red', 'Green', 'Yellow', 'Red', 'Yellow', 'Green']))\n",
        "building_2 = createList(np.array(['Red', 'Green', 'Yellow', 'Red', 'Blue', 'Green']))\n",
        "print('Building 1: ', end = ' ')\n",
        "printLinkedList(building_1)\n",
        "print('Building 2: ', end = ' ')\n",
        "printLinkedList(building_2)\n",
        "returned_value = check_similar(building_1, building_2)\n",
        "print(returned_value) #This should print 'Not Similar'\n",
        "unittest.output_test(returned_value, 'Not Similar')\n",
        "print()\n",
        "\n",
        "print('==============Test Case 3=============')\n",
        "building_1 = createList(np.array(['Red', 'Green', 'Yellow', 'Red', 'Blue', 'Green']))\n",
        "building_2 = createList(np.array(['Red', 'Green', 'Yellow', 'Red', 'Blue', 'Green', 'Blue']))\n",
        "print('Building 1: ', end = ' ')\n",
        "printLinkedList(building_1)\n",
        "print('Building 2: ', end = ' ')\n",
        "printLinkedList(building_2)\n",
        "returned_value = check_similar(building_1, building_2)\n",
        "print(returned_value) #This should print 'Not Similar'\n",
        "unittest.output_test(returned_value, 'Not Similar')\n",
        "print()\n",
        "\n",
        "print('==============Test Case 4=============')\n",
        "building_1 = createList(np.array(['Red', 'Green', 'Yellow', 'Red', 'Blue', 'Green', 'Blue']))\n",
        "building_2 = createList(np.array(['Red', 'Green', 'Yellow', 'Red', 'Blue', 'Green']))\n",
        "print('Building 1: ', end = ' ')\n",
        "printLinkedList(building_1)\n",
        "print('Building 2: ', end = ' ')\n",
        "printLinkedList(building_2)\n",
        "returned_value = check_similar(building_1, building_2)\n",
        "print(returned_value) #This should print 'Not Similar'\n",
        "unittest.output_test(returned_value, 'Not Similar')\n",
        "print()"
      ],
      "metadata": {
        "id": "QU2I53-4jWSo",
        "colab": {
          "base_uri": "https://localhost:8080/"
        },
        "outputId": "3dd297bc-37ea-48b3-af01-57cb2735bdbc"
      },
      "execution_count": 3,
      "outputs": [
        {
          "output_type": "stream",
          "name": "stdout",
          "text": [
            "==============Test Case 1=============\n",
            "Building 1:  Red-->Green-->Yellow-->Red-->Blue-->Green\n",
            "\n",
            "Building 2:  Red-->Green-->Yellow-->Red-->Blue-->Green\n",
            "\n",
            "Similar\n",
            "Accepted\n",
            "\n",
            "==============Test Case 2=============\n",
            "Building 1:  Red-->Green-->Yellow-->Red-->Yellow-->Green\n",
            "\n",
            "Building 2:  Red-->Green-->Yellow-->Red-->Blue-->Green\n",
            "\n",
            "Not Similar\n",
            "Accepted\n",
            "\n",
            "==============Test Case 3=============\n",
            "Building 1:  Red-->Green-->Yellow-->Red-->Blue-->Green\n",
            "\n",
            "Building 2:  Red-->Green-->Yellow-->Red-->Blue-->Green-->Blue\n",
            "\n",
            "Not Similar\n",
            "Accepted\n",
            "\n",
            "==============Test Case 4=============\n",
            "Building 1:  Red-->Green-->Yellow-->Red-->Blue-->Green-->Blue\n",
            "\n",
            "Building 2:  Red-->Green-->Yellow-->Red-->Blue-->Green\n",
            "\n",
            "Not Similar\n",
            "Accepted\n",
            "\n"
          ]
        }
      ]
    },
    {
      "cell_type": "markdown",
      "source": [
        "Task 2: Remove Compartment"
      ],
      "metadata": {
        "id": "KXf5NwHJjrga"
      }
    },
    {
      "cell_type": "code",
      "source": [
        "def remove_compartment(head,n):\n",
        "    #TO DO\n",
        "    var = head\n",
        "    var2 = head\n",
        "    counter = 0\n",
        "    while var:\n",
        "        counter+=1\n",
        "        var = var.next\n",
        "\n",
        "    rmv_idx = counter - n\n",
        "\n",
        "    if rmv_idx == 0:\n",
        "        return head.next\n",
        "    elif rmv_idx < 0:\n",
        "        return head\n",
        "    for i in range(rmv_idx-1):\n",
        "        var2 = var2.next\n",
        "    var2.next = var2.next.next\n",
        "    return head\n",
        "\n",
        "\n",
        "\n",
        "\n",
        "print('==============Test Case 1=============')\n",
        "head = createList(np.array([10,15,34,41,56,72]))\n",
        "print('Original Compartment Sequence: ', end = ' ')\n",
        "printLinkedList(head)\n",
        "head = remove_compartment(head,2)\n",
        "print('Changed Compartment Sequence: ', end = ' ')\n",
        "printLinkedList(head) #This should print 10-->15-->34-->41-->72\n",
        "print()\n",
        "print('==============Test Case 2=============')\n",
        "head = createList(np.array([10,15,34,41,56,72]))\n",
        "print('Original Compartment Sequence: ', end = ' ')\n",
        "printLinkedList(head)\n",
        "head = remove_compartment(head,7)\n",
        "print('Changed Compartment Sequence: ', end = ' ')\n",
        "printLinkedList(head) #This should print 10-->15-->34-->41-->56-->72\n",
        "print()\n",
        "print('==============Test Case 3=============')\n",
        "head = createList(np.array([10,15,34,41,56,72]))\n",
        "print('Original Compartment Sequence: ', end = ' ')\n",
        "printLinkedList(head)\n",
        "head = remove_compartment(head,6)\n",
        "print('Changed Compartment Sequence: ', end = ' ')\n",
        "printLinkedList(head) #This should print 15-->34-->41-->56-->72\n",
        "print()"
      ],
      "metadata": {
        "id": "RZFDGPlGkC9M",
        "colab": {
          "base_uri": "https://localhost:8080/"
        },
        "outputId": "cf466265-577f-44c7-d34a-6e50b998be6f"
      },
      "execution_count": 4,
      "outputs": [
        {
          "output_type": "stream",
          "name": "stdout",
          "text": [
            "==============Test Case 1=============\n",
            "Original Compartment Sequence:  10-->15-->34-->41-->56-->72\n",
            "\n",
            "Changed Compartment Sequence:  10-->15-->34-->41-->72\n",
            "\n",
            "\n",
            "==============Test Case 2=============\n",
            "Original Compartment Sequence:  10-->15-->34-->41-->56-->72\n",
            "\n",
            "Changed Compartment Sequence:  10-->15-->34-->41-->56-->72\n",
            "\n",
            "\n",
            "==============Test Case 3=============\n",
            "Original Compartment Sequence:  10-->15-->34-->41-->56-->72\n",
            "\n",
            "Changed Compartment Sequence:  15-->34-->41-->56-->72\n",
            "\n",
            "\n"
          ]
        }
      ]
    },
    {
      "cell_type": "markdown",
      "source": [
        "Task 3: Assemble Conga Line"
      ],
      "metadata": {
        "id": "1ru-53ewkgET"
      }
    },
    {
      "cell_type": "code",
      "source": [
        "def assemble_conga_line(conga_line):\n",
        "  #TO DO\n",
        "  crnt = conga_line\n",
        "  while crnt.next:\n",
        "      if crnt.elem > crnt.next.elem:\n",
        "          return False\n",
        "      crnt = crnt.next\n",
        "  return True\n",
        "\n",
        "\n",
        "print('==============Test Case 1=============')\n",
        "conga_line = createList(np.array([10,15,34,41,56,72]))\n",
        "print('Original Conga Line: ', end = ' ')\n",
        "printLinkedList(conga_line)\n",
        "returned_value = assemble_conga_line(conga_line)\n",
        "print(returned_value) #This should print True\n",
        "unittest.output_test(returned_value, True)\n",
        "print()\n",
        "print('==============Test Case 2=============')\n",
        "conga_line = createList(np.array([10,15,44,41,56,72]))\n",
        "print('Original Conga Line: ', end = ' ')\n",
        "printLinkedList(conga_line)\n",
        "returned_value = assemble_conga_line(conga_line)\n",
        "print(returned_value) #This should print False\n",
        "unittest.output_test(returned_value, False)\n",
        "print()"
      ],
      "metadata": {
        "id": "el2Iqez0kmfD",
        "colab": {
          "base_uri": "https://localhost:8080/"
        },
        "outputId": "ee21860c-285b-4b27-a1a3-72fe545c92fe"
      },
      "execution_count": 5,
      "outputs": [
        {
          "output_type": "stream",
          "name": "stdout",
          "text": [
            "==============Test Case 1=============\n",
            "Original Conga Line:  10-->15-->34-->41-->56-->72\n",
            "\n",
            "True\n",
            "Accepted\n",
            "\n",
            "==============Test Case 2=============\n",
            "Original Conga Line:  10-->15-->44-->41-->56-->72\n",
            "\n",
            "False\n",
            "Accepted\n",
            "\n"
          ]
        }
      ]
    },
    {
      "cell_type": "markdown",
      "source": [
        "Task 4: Word Decoder"
      ],
      "metadata": {
        "id": "iD_ytSvbloPy"
      }
    },
    {
      "cell_type": "code",
      "source": [
        "def word_Decoder(head):\n",
        "    #TO DO\n",
        "    if not head or not head.next:\n",
        "        return head\n",
        "\n",
        "    var = head\n",
        "    lnth = 0\n",
        "    while var:\n",
        "        lnth+=1\n",
        "        var = var.next\n",
        "\n",
        "    psn = 13% lnth\n",
        "\n",
        "    var2 = head\n",
        "    idx = 0\n",
        "\n",
        "    dummyhd = Node(None)\n",
        "\n",
        "    tail = dummyhd\n",
        "    while var2:\n",
        "        if idx % psn == 0 and idx != 0:\n",
        "            newnode = Node(var2.elem)\n",
        "            dummyhd.next = newnode\n",
        "            newnode.next = tail\n",
        "            tail = newnode\n",
        "        var2 = var2.next\n",
        "        idx += 1\n",
        "    return dummyhd\n",
        "\n",
        "\n",
        "\n",
        "\n",
        "\n",
        "#Driver Code\n",
        "print('==============Test Case 1=============')\n",
        "head = createList(np.array(['B', 'M', 'D', 'T', 'N', 'O', 'A', 'P', 'S', 'C']))\n",
        "print(\"Encoded Word:\")\n",
        "printLinkedList(head) #This should print B→M→D→T→N→O→A→P→S→C\n",
        "\n",
        "result = word_Decoder(head)\n",
        "print(\"Decoded Word:\")\n",
        "printLinkedList(result)    #This should print None→C→A→T\n",
        "\n",
        "print('==============Test Case 2=============')\n",
        "\n",
        "head = createList(np.array(['Z', 'O', 'T', 'N', 'X']))\n",
        "print(\"Encoded Word:\")\n",
        "printLinkedList(head) #This should print Z→O→T→N→X\n",
        "\n",
        "result = word_Decoder(head)\n",
        "print(\"Decoded Word:\")\n",
        "printLinkedList(result)    #This should print None→N\n",
        "\n"
      ],
      "metadata": {
        "id": "PU6PxoNllxdf",
        "colab": {
          "base_uri": "https://localhost:8080/",
          "height": 497
        },
        "outputId": "c1d572bb-b1bd-46f0-c610-a571f0424015"
      },
      "execution_count": 48,
      "outputs": [
        {
          "output_type": "stream",
          "name": "stdout",
          "text": [
            "==============Test Case 1=============\n",
            "Encoded Word:\n",
            "B-->M-->D-->T-->N-->O-->A-->P-->S-->C\n",
            "\n",
            "Decoded Word:\n",
            "None-->C-->A-->T-->None-->C-->A-->T-->None-->C-->A-->T-->None-->C-->A-->T-->None-->C-->A-->T-->None-->C-->A-->T-->None-->C-->A-->T-->None-->C-->A-->T-->None-->C-->A-->T-->None-->C-->A-->T-->None-->C-->A-->T-->None-->C-->A-->T-->None-->C-->A-->T-->None-->C-->A-->T-->None-->C-->A-->T-->None-->C-->A-->T-->None-->C-->A-->T-->None-->C-->A-->T-->None-->C-->A-->T-->None-->C-->A-->T-->None-->C-->A-->T-->None-->C-->A-->T-->None-->C-->A-->T-->None-->C-->A-->T-->None-->C-->A-->T-->None-->C-->A-->T-->None-->C-->A-->T-->None-->C-->A-->T-->None-->C-->A-->T-->None-->C-->A-->T-->None-->C-->A-->T-->None-->C-->A-->T-->None-->C-->A-->T-->None-->C-->A-->T-->None-->C-->A-->T-->None-->C-->A-->T-->None-->C-->A-->T-->None-->C-->A-->T-->None-->C-->A-->T-->None-->C-->A-->T-->None-->C-->A-->T-->None-->C-->A-->T-->None-->C-->A-->T-->None-->C-->A-->T-->None-->C-->A-->T-->None-->C-->A-->T-->None-->C-->A-->T-->None-->C-->A-->T-->None-->C-->A-->T-->None-->C-->A-->T-->None-->C-->A-->T-->None-->C-->A-->T-->None-->C-->A-->T-->None-->C-->A-->T-->None-->C-->A-->T-->None-->C-->A-->T-->None-->C-->A-->T-->None-->C-->A-->T-->None-->C-->A-->T-->None-->C-->A-->T-->None-->C-->A-->T-->None-->C-->A-->T-->None-->C-->A-->T-->None-->C-->A-->T-->None-->C-->A-->T-->None-->C-->A-->T-->None-->C-->A-->T-->None-->C-->A-->T-->None-->C-->A-->T-->None-->C-->A-->T-->None-->C-->A-->T-->None-->C-->A-->T-->None-->C-->A-->T-->None-->C-->A-->T-->None-->C-->A-->T-->None-->C-->A-->T-->None-->C-->A-->T-->None-->C-->A-->T-->None-->C-->A-->T-->None-->C-->A-->T-->None-->C-->A-->T-->None-->C-->A-->T-->None-->C-->A-->T-->None-->C-->A-->T-->None-->C-->A-->T-->None-->C-->A-->T-->None-->C-->A-->T-->None-->C-->A-->T-->None-->C-->A-->T-->None-->C-->A-->T-->None-->C-->A-->T-->None-->C-->A-->T-->None-->C-->A-->T-->None-->C-->A-->T-->None-->C-->A-->T-->None-->C-->A-->T-->None-->C-->A-->T-->None-->C-->A-->T-->None-->C-->A-->T-->None-->C-->A-->T-->None-->C-->A-->T-->None-->C-->A-->T-->None-->C-->A-->T-->None-->C-->A-->T-->None-->C-->A-->T-->None-->C-->A-->T-->None-->C-->A-->T-->None-->C-->A-->T-->None-->C-->A-->T-->None-->C-->A-->T-->None-->C-->A-->T-->None-->C-->A-->T-->None-->C-->A-->T-->None-->C-->A-->T-->None-->C-->A-->T-->None-->C-->A-->T-->None-->C-->A-->T-->None-->C-->A-->T-->None-->C-->A-->T-->None-->C-->A-->T-->None-->C-->A-->T-->None-->C-->A-->T-->None-->C-->A-->T-->None-->C-->A-->T-->None-->C-->A-->T-->None-->C-->A-->T-->None-->C-->A-->T-->None-->C-->A-->T-->None-->C-->A-->T-->None-->C-->A-->T-->None-->C-->A-->T-->None-->C-->A-->T-->None-->C-->A-->T-->None-->C-->A-->T-->None-->C-->A-->T-->None-->C-->A-->T-->None-->C-->A-->T-->None-->C-->A-->T-->None-->C-->A-->T-->None-->C-->A-->T-->None-->C-->A-->T-->None-->C-->A-->T-->None-->C-->A-->T-->None-->C-->A-->T-->None-->C-->A-->T-->None-->C-->A-->T-->None-->C-->A-->T-->None-->C-->A-->T-->None-->C-->A-->T-->None-->C-->A-->T-->None-->C-->A-->T-->None-->C-->A-->T-->None-->C-->A-->T-->None-->C-->A-->T-->None-->C-->A-->T-->None-->C-->A-->T-->None-->C-->A-->T-->None-->C-->A-->T-->None-->C-->A-->T-->None-->C-->A-->T-->None-->C-->A-->T-->None-->C-->A-->T-->None-->C-->A-->T-->None-->C-->A-->T-->None-->C-->A-->T-->None-->C-->A-->T-->None-->C-->A-->T-->None-->C-->A-->T-->None-->C-->A-->T-->None-->C-->A-->T-->None-->C-->A-->T-->None-->C-->A-->T-->None-->C-->A-->T-->None-->C-->A-->T-->None-->C-->A-->T-->None-->C-->A-->T-->None-->C-->A-->T-->None-->C-->A-->T-->None-->C-->A-->T-->None-->C-->A-->T-->None-->C-->A-->T-->None-->C-->A-->T-->None-->C-->A-->T-->None-->C-->A-->T-->None-->C-->A-->T-->None-->C-->A-->T-->None-->C-->A-->T-->None-->C-->A-->T-->None-->C-->A-->T-->None-->C-->A-->T-->None-->C-->A-->T-->None-->C-->A-->T-->None-->C-->A-->T-->None-->C-->A-->T-->None-->C-->A-->T-->None-->C-->A-->T-->None-->C-->A-->T-->None-->C-->A-->T-->None-->C-->A-->T-->None-->C-->A-->T-->None-->C-->A-->T-->None-->C-->A-->T-->None-->C-->A-->T-->None-->C-->A-->T-->None-->C-->A-->T-->None-->C-->A-->T-->None-->C-->A-->T-->None-->C-->A-->T-->None-->C-->A-->T-->None-->C-->A-->T-->None-->C-->A-->T-->None-->C-->A-->T-->None-->C-->A-->T-->None-->C-->A-->T-->None-->C-->A-->T-->None-->C-->A-->T-->None-->C-->A-->T-->None-->C-->A-->T-->None-->C-->A-->T-->None-->C-->A-->T-->None-->C-->A-->T-->None-->C-->A-->T-->None-->C-->A-->T-->None-->C-->A-->T-->None-->C-->A-->T-->None-->C-->A-->T-->None-->C-->A-->T-->None-->C-->A-->T-->None-->C-->A-->T-->None-->C-->A-->T-->None-->C-->A-->T-->None-->C-->A-->T-->None-->C-->A-->T-->None-->C-->A-->T-->None-->C-->A-->T-->None-->C-->A-->T-->None-->C-->A-->T-->None-->C-->A-->T-->None-->C-->A-->T-->None-->C-->A-->T-->None-->C-->A-->T-->None-->C-->A-->T-->None-->C-->A-->T-->None-->C-->A-->T-->None-->C-->A-->T-->None-->C-->A-->T-->None-->C-->A-->T-->None-->C-->A-->T-->None-->C-->A-->T-->None-->C-->A-->T-->None-->C-->A-->T-->None-->C-->A-->T-->None-->C-->A-->T-->None-->C-->A-->T-->None-->C-->A-->T-->None-->C-->A-->T-->None-->C-->A-->T-->None-->C-->A-->T-->None-->C-->A-->T-->None-->C-->A-->T-->None-->C-->A-->T-->None-->C-->A-->T-->None-->C-->A-->T-->None-->C-->A-->T-->None-->C-->A-->T-->None-->C-->A-->T-->None-->C-->A-->T-->None-->C-->A-->T-->None-->C-->A-->T-->None-->C-->A-->T-->None-->C-->A-->T-->None-->C-->A-->T-->None-->C-->A-->T-->None-->C-->A-->T-->None-->C-->A-->T-->None-->C-->A-->T-->None-->C-->A-->T-->None-->C-->A-->T-->None-->C-->A-->T-->None-->C-->A-->T-->None-->C-->A-->T-->None-->C-->A-->T-->None-->C-->A-->T-->None-->C-->A-->T-->None-->C-->A-->T-->None-->C-->A-->T-->None-->C-->A-->T-->None-->C-->A-->T-->None-->C-->A-->T-->None-->C-->A-->T-->None-->C-->A-->T-->None-->C-->A-->T-->None-->C-->A-->T-->None-->C-->A-->T-->None-->C-->A-->T-->None-->C-->A-->T-->None-->C-->A-->T-->None-->C-->A-->T-->None-->C-->A-->T-->None-->C-->A-->T-->None-->C-->A-->T-->None-->C-->A-->T-->None-->C-->A-->T-->None-->C-->A-->T-->None-->C-->A-->T-->None-->C-->A-->T-->None-->C-->A-->T-->None-->C-->A-->T-->None-->C-->A-->T-->None-->C-->A-->T-->None-->C-->A-->T-->None-->C-->A-->T-->None-->C-->A-->T-->None-->C-->A-->T-->None-->C-->A-->T-->None-->C-->A-->T-->None-->C-->A-->T-->None-->C-->A-->T-->None-->C-->A-->T-->None-->C-->A-->T-->None-->C-->A-->T-->None-->C-->A-->T-->None-->C-->A-->T-->None-->C-->A-->T-->None-->C-->A-->T-->None-->C-->A-->T-->None-->C-->A-->T-->None-->C-->A-->T-->None-->C-->A-->T-->None-->C-->A-->T-->None-->C-->A-->T-->None-->C-->A-->T-->None-->C-->A-->T-->None-->C-->A-->T-->None-->C-->A-->T-->None-->C-->A-->T-->None-->C-->A-->T-->None-->C-->A-->T-->None-->C-->A-->T-->None-->C-->A-->T-->None-->C-->A-->T-->None-->C-->A-->T-->None-->C-->A-->T-->None-->C-->A-->T-->None-->C-->A-->T-->None-->C-->A-->T-->None-->C-->A-->T-->None-->C-->A-->T-->None-->C-->A-->T-->None-->C-->A-->T-->None-->C-->A-->T-->None-->C-->A-->T-->None-->C-->A-->T-->None-->C-->A-->T-->None-->C-->A-->T-->None-->C-->A-->T-->None-->C-->A-->T-->None-->C-->A-->T-->None-->C-->A-->T-->None-->C-->A-->T-->None-->C-->A-->T-->None-->C-->A-->T-->None-->C-->A-->T-->None-->C-->A-->T-->None-->C-->A-->T-->None-->C-->A-->T-->None-->C-->A-->T-->None-->C-->A-->T-->None-->C-->A-->T-->None-->C-->A-->T-->None-->C-->A-->T-->None-->C-->A-->T-->None-->C-->A-->T-->None-->C-->A-->T-->None-->C-->A-->T-->None-->C-->A-->T-->None-->C-->A-->T-->None-->C-->A-->T-->None-->C-->A-->T-->None-->C-->A-->T-->None-->C-->A-->T-->None-->C-->A-->T-->None-->C-->A-->T-->None-->C-->A-->T-->None-->C-->A-->T-->None-->C-->A-->T-->None-->C-->A-->T-->None-->C-->A-->T-->None-->C-->A-->T-->None-->C-->A-->T-->None-->C-->A-->T-->None-->C-->A-->T-->None-->C-->A-->T-->None-->C-->A-->T-->None-->C-->A-->T-->None-->C-->A-->T-->None-->C-->A-->T-->None-->C-->A-->T-->None-->C-->A-->T-->None-->C-->A-->T-->None-->C-->A-->T-->None-->C-->A-->T-->None-->C-->A-->T-->None-->C-->A-->T-->None-->C-->A-->T-->None-->C-->A-->T-->None-->C-->A-->T-->None-->C-->A-->T-->None-->C-->A-->T-->None-->C-->A-->T-->None-->C-->A-->T-->None-->C-->A-->T-->None-->C-->A-->T-->None-->C-->A-->T-->None-->C-->A-->T-->None-->C-->A-->T-->None-->C-->A-->T-->None-->C-->A-->T-->None-->C-->A-->T-->None-->C-->A-->T-->None-->C-->A-->T-->None-->C-->A-->T-->None-->C-->A-->T-->None-->C-->A-->T-->None-->C-->A-->T-->None-->C-->A-->T-->None-->C-->A-->T-->None-->C-->A-->T-->None-->C-->A-->T-->None-->C-->A-->T-->None-->C-->A-->T-->None-->C-->A-->T-->None-->C-->A-->T-->None-->C-->A-->T-->None-->C-->A-->T-->None-->C-->A-->T-->None-->C-->A-->T-->None-->C-->A-->T-->None-->C-->A-->T-->None-->C-->A-->T-->None-->C-->A-->T-->None-->C-->A-->T-->None-->C-->A-->T-->None-->C-->A-->T-->None-->C-->A-->T-->None-->C-->A-->T-->None-->C-->A-->T-->None-->C-->A-->T-->None-->C-->A-->T-->None-->C-->A-->T-->None-->C-->A-->T-->None-->C-->A-->T-->None-->C-->A-->T-->None-->C-->A-->T-->None-->C-->A-->T-->None-->C-->A-->T-->None-->C-->A-->T-->None-->C-->A-->T-->None-->C-->A-->T-->None-->C-->A-->T-->None-->C-->A-->T-->None-->C-->A-->T-->None-->C-->A-->T-->None-->C-->A-->T-->None-->C-->A-->T-->None-->C-->A-->T-->None-->C-->A-->T-->None-->C-->A-->T-->None-->C-->A-->T-->None-->C-->A-->T-->None-->C-->A-->T-->None-->C-->A-->T-->None-->C-->A-->T-->None-->C-->A-->T-->None-->C-->A-->T-->None-->C-->A-->T-->None-->C-->A-->T-->None-->C-->A-->T-->None-->C-->A-->T-->None-->C-->A-->T-->None-->C-->A-->T-->None-->C-->A-->T-->None-->C-->A-->T-->None-->C-->A-->T-->None-->C-->A-->T-->None-->C-->A-->T-->None-->C-->A-->T-->None-->C-->A-->T-->None-->C-->A-->T-->None-->C-->A-->T-->None-->C-->A-->T-->None-->C-->A-->T-->None-->C-->A-->T-->None-->C-->A-->T-->None-->C-->A-->T-->None-->C-->A-->T-->None-->C-->A-->T-->None-->C-->A-->T-->None-->C-->A-->T-->None-->C-->A-->T-->None-->C-->A-->T-->None-->C-->A-->T-->None-->C-->A-->T-->None-->C-->A-->T-->None-->C-->A-->T-->None-->C-->A-->T-->None-->C-->A-->T-->None-->C-->A-->T-->None-->C-->A-->T-->None-->C-->A-->T-->None-->C-->A-->T-->None-->C-->A-->T-->None-->C-->A-->T-->None-->C-->A-->T-->None-->C-->A-->T-->None-->C-->A-->T-->None-->C-->A-->T-->None-->C-->A-->T-->None-->C-->A-->T-->None-->C-->A-->T-->None-->C-->A-->T-->None-->C-->A-->T-->None-->C-->A-->T-->None-->C-->A-->T-->None-->C-->A-->T-->None-->C-->A-->T-->None-->C-->A-->T-->None-->C-->A-->T-->None-->C-->A-->T-->None-->C-->A-->T-->None-->C-->A-->T-->None-->C-->A-->T-->None-->C-->A-->T-->None-->C-->A-->T-->None-->C-->A-->T-->None-->C-->A-->T-->None-->C-->A-->T-->None-->C-->A-->T-->None-->C-->A-->T-->None-->C-->A-->T-->None-->C-->A-->T-->None-->C-->A-->T-->None-->C-->A-->T-->None-->C-->A-->T-->None-->C-->A-->T-->None-->C-->A-->T-->None-->C-->A-->T-->None-->C-->A-->T-->None-->C-->A-->T-->None-->C-->A-->T-->None-->C-->A-->T-->None-->C-->A-->T-->None-->C-->A-->T-->None-->C-->A-->T-->None-->C-->A-->T-->None-->C-->A-->T-->None-->C-->A-->T-->None-->C-->A-->T-->None-->C-->A-->T-->None-->C-->A-->T-->None-->C-->A-->T-->None-->C-->A-->T-->None-->C-->A-->T-->None-->C-->A-->T-->None-->C-->A-->T-->None-->C-->A-->T-->None-->C-->A-->T-->None-->C-->A-->T-->None-->C-->A-->T-->None-->C-->A-->T-->None-->C-->A-->T-->None-->C-->A-->T-->None-->C-->A-->T-->None-->C-->A-->T-->None-->C-->A-->T-->None-->C-->A-->T-->None-->C-->A-->T-->None-->C-->A-->T-->None-->C-->A-->T-->None-->C-->A-->T-->None-->C-->A-->T-->None-->C-->A-->T-->None-->C-->A-->T-->None-->C-->A-->T-->None-->C-->A-->T-->None-->C-->A-->T-->None-->C-->A-->T-->None-->C-->A-->T-->None-->C-->A-->T-->None-->C-->A-->T-->None-->C-->A-->T-->None-->C-->A-->T-->None-->C-->A-->T-->None-->C-->A-->T-->None-->C-->A-->T-->None-->C-->A-->T-->None-->C-->A-->T-->None-->C-->A-->T-->None-->C-->A-->T-->None-->C-->A-->T-->None-->C-->A-->T-->None-->C-->A-->T-->None-->C-->A-->T-->None-->C-->A-->T-->None-->C-->A-->T-->None-->C-->A-->T-->None-->C-->A-->T-->None-->C-->A-->T-->None-->C-->A-->T-->None-->C-->A-->T-->None-->C-->A-->T-->None-->C-->A-->T-->None-->C-->A-->T-->None-->C-->A-->T-->None-->C-->A-->T-->None-->C-->A-->T-->None-->C-->A-->T-->None-->C-->A-->T-->None-->C-->A-->T-->None-->C-->A-->T-->None-->C-->A-->T-->None-->C-->A-->T-->None-->C-->A-->T-->None-->C-->A-->T-->None-->C-->A-->T-->None-->C-->A-->T-->None-->C-->A-->T-->None-->C-->A-->T-->None-->C-->A-->T-->None-->C-->A-->T-->None-->C-->A-->T-->None-->C-->A-->T-->None-->C-->A-->T-->None-->C-->A-->T-->None-->C-->A-->T-->None-->C-->A-->T-->None-->C-->A-->T-->None-->C-->A-->T-->None-->C-->A-->T-->None-->C-->A-->T-->None-->C-->A-->T-->None-->C-->A-->T-->None-->C-->A-->T-->None-->C-->A-->T-->None-->C-->A-->T-->None-->C-->A-->T-->None-->C-->A-->T-->None-->C-->A-->T-->None-->C-->A-->T-->None-->C-->A-->T-->None-->C-->A-->T-->None-->C-->A-->T-->None-->C-->A-->T-->None-->C-->A-->T-->None-->C-->A-->T-->None-->C-->A-->T-->None-->C-->A-->T-->None-->C-->A-->T-->None-->C-->A-->T-->None-->C-->A-->T-->None-->C-->A-->T-->None-->C-->A-->T-->None-->C-->A-->T-->None-->C-->A-->T-->None-->C-->A-->T-->None-->C-->A-->T-->None-->C-->A-->T-->None-->C-->A-->T-->None-->C-->A-->T-->None-->C-->A-->T-->None-->C-->A-->T-->None-->C-->A-->T-->None-->C-->A-->T-->None-->C-->A-->T-->None-->C-->A-->T-->None-->C-->A-->T-->None-->C-->A-->T-->None-->C-->A-->T-->None-->C-->A-->T-->None-->C-->A-->T-->None-->C-->A-->T-->None-->C-->A-->T-->None-->C-->A-->T-->None-->C-->A-->T-->None-->C-->A-->T-->None-->C-->A-->T-->None-->C-->A-->T-->None-->C-->A-->T-->None-->C-->A-->T-->None-->C-->A-->T-->None-->C-->A-->T-->None-->C-->A-->T-->None-->C-->A-->T-->None-->C-->A-->T-->None-->C-->A-->T-->None-->C-->A-->T-->None-->C-->A-->T-->None-->C-->A-->T-->None-->C-->A-->T-->None-->C-->A-->T-->None-->C-->A-->T-->None-->C-->A-->T-->None-->C-->A-->T-->None-->C-->A-->T-->None-->C-->A-->T-->None-->C-->A-->T-->None-->C-->A-->T-->None-->C-->A-->T-->None-->C-->A-->T-->None-->C-->A-->T-->None-->C-->A-->T-->None-->C-->A-->T-->None-->C-->A-->T-->None-->C-->A-->T-->None-->C-->A-->T-->None-->C-->A-->T-->None-->C-->A-->T-->None-->C-->A-->T-->None-->C-->A-->T-->None-->C-->A-->T-->None-->C-->A-->T-->None-->C-->A-->T-->None-->C-->A-->T-->None-->C-->A-->T-->None-->C-->A-->T-->None-->C-->A-->T-->None-->C-->A-->T-->None-->C-->A-->T-->None-->C-->A-->T-->None-->C-->A-->T-->None-->C-->A-->T-->None-->C-->A-->T-->None-->C-->A-->T-->None-->C-->A-->T-->None-->C-->A-->T-->None-->C-->A-->T-->None-->C-->A-->T-->None-->C-->A-->T-->None-->C-->A-->T-->None-->C-->A-->T-->None-->C-->A-->T-->None-->C-->A-->T-->None-->C-->A-->T-->None-->C-->A-->T-->None-->C-->A-->T-->None-->C-->A-->T-->None-->C-->A-->T-->None-->C-->A-->T-->None-->C-->A-->T-->None-->C-->A-->T-->None-->C-->A-->T-->None-->C-->A-->T-->None-->C-->A-->T-->None-->C-->A-->T-->None-->C-->A-->T-->None-->C-->A-->T-->None-->C-->A-->T-->None-->C-->A-->T-->None-->C-->A-->T-->None-->C-->A-->T-->None-->C-->A-->T-->None-->C-->A-->T-->None-->C-->A-->T-->None-->C-->A-->T-->None-->C-->A-->T-->None-->C-->A-->T-->None-->C-->A-->T-->None-->C-->A-->T-->None-->C-->A-->T-->None-->C-->A-->T-->None-->C-->A-->T-->None-->C-->A-->T-->None-->C-->A-->T-->None-->C-->A-->T-->None-->C-->A-->T-->None-->C-->A-->T-->None-->C-->A-->T-->None-->C-->A-->T-->None-->C-->A-->T-->None-->C-->A-->T-->None-->C-->A-->T-->None-->C-->A-->T-->None-->C-->A-->T-->None-->C-->A-->T-->None-->C-->A-->T-->None-->C-->A-->T-->None-->C-->A-->T-->None-->C-->A-->T-->None-->C-->A-->T-->None-->C-->A-->T-->None-->C-->A-->T-->None-->C-->A-->T-->None-->C-->A-->T-->None-->C-->A-->T-->None-->C-->A-->T-->None-->C-->A-->T-->None-->C-->A-->T-->None-->C-->A-->T-->None-->C-->A-->T-->None-->C-->A-->T-->None-->C-->A-->T-->None-->C-->A-->T-->None-->C-->A-->T-->None-->C-->A-->T-->None-->C-->A-->T-->None-->C-->A-->T-->None-->C-->A-->T-->None-->C-->A-->T-->None-->C-->A-->T-->None-->C-->A-->T-->None-->C-->A-->T-->None-->C-->A-->T-->None-->C-->A-->T-->None-->C-->A-->T-->None-->C-->A-->T-->None-->C-->A-->T-->None-->C-->A-->T-->None-->C-->A-->T-->None-->C-->A-->T-->None-->C-->A-->T-->None-->C-->A-->T-->None-->C-->A-->T-->None-->C-->A-->T-->None-->C-->A-->T-->None-->C-->A-->T-->None-->C-->A-->T-->None-->C-->A-->T-->None-->C-->A-->T-->None-->C-->A-->T-->None-->C-->A-->T-->None-->C-->A-->T-->None-->C-->A-->T-->None-->C-->A-->T-->None-->C-->A-->T-->None-->C-->A-->T-->None-->C-->A-->T-->None-->C-->A-->T-->None-->C-->A-->T-->None-->C-->A-->T-->None-->C-->A-->T-->None-->C-->A-->T-->None-->C-->A-->T-->None-->C-->A-->T-->None-->C-->A-->T-->None-->C-->A-->T-->None-->C-->A-->T-->None-->C-->A-->T-->None-->C-->A-->T-->None-->C-->A-->T-->None-->C-->A-->T-->None-->C-->A-->T-->None-->C-->A-->T-->None-->C-->A-->T-->None-->C-->A-->T-->None-->C-->A-->T-->None-->C-->A-->T-->None-->C-->A-->T-->None-->C-->A-->T-->None-->C-->A-->T-->None-->C-->A-->T-->None-->C-->A-->T-->None-->C-->A-->T-->None-->C-->A-->T-->None-->C-->A-->T-->None-->C-->A-->T-->None-->C-->A-->T-->None-->C-->A-->T-->None-->C-->A-->T-->None-->C-->A-->T-->None-->C-->A-->T-->None-->C-->A-->T-->None-->C-->A-->T-->None-->C-->A-->T-->None-->C-->A-->T-->None-->C-->A-->T-->None-->C-->A-->T-->None-->C-->A-->T-->None-->C-->A-->T-->None-->C-->A-->T-->None-->C-->A-->T-->None-->C-->A-->T-->None-->C-->A-->T-->None-->C-->A-->T-->None-->C-->A-->T-->None-->C-->A-->T-->None-->C-->A-->T-->None-->C-->A-->T-->None-->C-->A-->T-->None-->C-->A-->T-->None-->C-->A-->T-->None-->C-->A-->T-->None-->C-->A-->T-->None-->C-->A-->T-->None-->C-->A-->T-->None-->C-->A-->T-->None-->C-->A-->T-->None-->C-->A-->T-->None-->C-->A-->T-->None-->C-->A-->T-->None-->C-->A-->T-->None-->C-->A-->T-->None-->C-->A-->T-->None-->C-->A-->T-->None-->C-->A-->T-->None-->C-->A-->T-->None-->C-->A-->T-->None-->C-->A-->T-->None-->C-->A-->T-->None-->C-->A-->T-->None-->C-->A-->T-->None-->C-->A-->T-->None-->C-->A-->T-->None-->C-->A-->T-->None-->C-->A-->T-->None-->C-->A-->T-->None-->C-->A-->T-->None-->C-->A-->T-->None-->C-->A-->T-->None-->C-->A-->T-->None-->C-->A-->T-->None-->C-->A-->T-->None-->C-->A-->T-->None-->C-->A-->T-->None-->C-->A-->T-->None-->C-->A-->T-->None-->C-->A-->T-->None-->C-->A-->T-->None-->C-->A-->T-->None-->C-->A-->T-->None-->C-->A-->T-->None-->C-->A-->T-->None-->C-->A-->T-->None-->C-->A-->T-->None-->C-->A-->T-->None-->C-->A-->T-->None-->C-->A-->T-->None-->C-->A-->T-->None-->C-->A-->T-->None-->C-->A-->T-->None-->C-->A-->T-->None-->C-->A-->T-->None-->C-->A-->T-->None-->C-->A-->T-->None-->C-->A-->T-->None-->C-->A-->T-->None-->C-->A-->T-->None-->C-->A-->T-->None-->C-->A-->T-->None-->C-->A-->T-->None-->C-->A-->T-->None-->C-->A-->T-->None-->C-->A-->T-->None-->C-->A-->T-->None-->C-->A-->T-->None-->C-->A-->T-->None-->C-->A-->T-->None-->C-->A-->T-->None-->C-->A-->T-->None-->C-->A-->T-->None-->C-->A-->T-->None-->C-->A-->T-->None-->C-->A-->T-->None-->C-->A-->T-->None-->C-->A-->T-->None-->C-->A-->T-->None-->C-->A-->T-->None-->C-->A-->T-->None-->C-->A-->T-->None-->C-->A-->T-->None-->C-->A-->T-->None-->C-->A-->T-->None-->C-->A-->T-->None-->C-->A-->T-->None-->C-->A-->T-->None-->C-->A-->T-->None-->C-->A-->T-->None-->C-->A-->T-->None-->C-->A-->T-->None-->C-->A-->T-->None-->C-->A-->T-->None-->C-->A-->T-->None-->C-->A-->T-->None-->C-->A-->T-->None-->C-->A-->T-->None-->C-->A-->T-->None-->C-->A-->T-->None-->C-->A-->T-->None-->C-->A-->T-->None-->C-->A-->T-->None-->C-->A-->T-->None-->C-->A-->T-->None-->C-->A-->T-->None-->C-->A-->T-->None-->C-->A-->T-->None-->C-->A-->T-->None-->C-->A-->T-->None-->C-->A-->T-->None-->C-->A-->T-->None-->C-->A-->T-->None-->C-->A-->T-->None-->C-->A-->T-->None-->C-->A-->T-->None-->C-->A-->T-->None-->C-->A-->T-->None-->C-->A-->T-->None-->C-->A-->T-->None-->C-->A-->T-->None-->C-->A-->T-->None-->C-->A-->T-->None-->C-->A-->T-->None-->C-->A-->T-->None-->C-->A-->T-->None-->C-->A-->T-->None-->C-->A-->T-->None-->C-->A-->T-->None-->C-->A-->T-->None-->C-->A-->T-->None-->C-->A-->T-->None-->C-->A-->T-->None-->C-->A-->T-->None-->C-->A-->T-->None-->C-->A-->T-->None-->C-->A-->T-->None-->C-->A-->T-->None-->C-->A-->T-->None-->C-->A-->T-->None-->C-->A-->T-->None-->C-->A-->T-->None-->C-->A-->T-->None-->C-->A-->T-->None-->C-->A-->T-->None-->C-->A-->T-->None-->C-->A-->T-->None-->C-->A-->T-->None-->C-->A-->T-->None-->C-->A-->T-->None-->C-->A-->T-->None-->C-->A-->T-->None-->C-->A-->T-->None-->C-->A-->T-->None-->C-->A-->T-->None-->C-->A-->T-->None-->C-->A-->T-->None-->C-->A-->T-->None-->C-->A-->T-->None-->C-->A-->T-->None-->C-->A-->T-->None-->C-->A-->T-->None-->C-->A-->T-->None-->C-->A-->T-->None-->C-->A-->T-->None-->C-->A-->T-->None-->C-->A-->T-->None-->C-->A-->T-->None-->C-->A-->T-->None-->C-->A-->T-->None-->C-->A-->T-->None-->C-->A-->T-->None-->C-->A-->T-->None-->C-->A-->T-->None-->C-->A-->T-->None-->C-->A-->T-->None-->C-->A-->T-->None-->C-->A-->T-->None-->C-->A-->T-->None-->C-->A-->T-->None-->C-->A-->T-->None-->C-->A-->T-->None-->C-->A-->T-->None-->C-->A-->T-->None-->C-->A-->T-->None-->C-->A-->T-->None-->C-->A-->T-->None-->C-->A-->T-->None-->C-->A-->T-->None-->C-->A-->T-->None-->C-->A-->T-->None-->C-->A-->T-->None-->C-->A-->T-->None-->C-->A-->T-->None-->C-->A-->T-->None-->C-->A-->T-->None-->C-->A-->T-->None-->C-->A-->T-->None-->C-->A-->T-->None-->C-->A-->T-->None-->C-->A-->T-->None-->C-->A-->T-->None-->C-->A-->T-->None-->C-->A-->T-->None-->C-->A-->T-->None-->C-->A-->T-->None-->C-->A-->T-->None-->C-->A-->T-->None-->C-->A-->T-->None-->C-->A-->T-->None-->C-->A-->T-->None-->C-->A-->T-->None-->C-->A-->T-->None-->C-->A-->T-->None-->C-->A-->T-->None-->C-->A-->T-->None-->C-->A-->T-->None-->C-->A-->T-->None-->C-->A-->T-->None-->C-->A-->T-->None-->C-->A-->T-->None-->C-->A-->T-->None-->C-->A-->T-->None-->C-->A-->T-->None-->C-->A-->T-->None-->C-->A-->T-->None-->C-->A-->T-->None-->C-->A-->T-->None-->C-->A-->T-->None-->C-->A-->T-->None-->C-->A-->T-->None-->C-->A-->T-->None-->C-->A-->T-->None-->C-->A-->T-->None-->C-->A-->T-->None-->C-->A-->T-->None-->C-->A-->T-->None-->C-->A-->T-->None-->C-->A-->T-->None-->C-->A-->T-->None-->C-->A-->T-->None-->C-->A-->T-->None-->C-->A-->T-->None-->C-->A-->T-->None-->C-->A-->T-->None-->C-->A-->T-->None-->C-->A-->T-->None-->C-->A-->T-->None-->C-->A-->T-->None-->C-->A-->T-->None-->C-->A-->T-->None-->C-->A-->T-->None-->C-->A-->T-->None-->C-->A-->T-->None-->C-->A-->T-->None-->C-->A-->T-->None-->C-->A-->T-->None-->C-->A-->T-->None-->C-->A-->T-->None-->C-->A-->T-->None-->C-->A-->T-->None-->C-->A-->T-->None-->C-->A-->T-->None-->C-->A-->T-->None-->C-->A-->T-->None-->C-->A-->T-->None-->C-->A-->T-->None-->C-->A-->T-->None-->C-->A-->T-->None-->C-->A-->T-->None-->C-->A-->T-->None-->C-->A-->T-->None-->C-->A-->T-->None-->C-->A-->T-->None-->C-->A-->T-->None-->C-->A-->T-->None-->C-->A-->T-->None-->C-->A-->T-->None-->C-->A-->T-->None-->C-->A-->T-->None-->C-->A-->T-->None-->C-->A-->T-->None-->C-->A-->T-->None-->C-->A-->T-->None-->C-->A-->T-->None-->C-->A-->T-->None-->C-->A-->T-->None-->C-->A-->T-->None-->C-->A-->T-->None-->C-->A-->T-->None-->C-->A-->T-->None-->C-->A-->T-->None-->C-->A-->T-->None-->C-->A-->T-->None-->C-->A-->T-->None-->C-->A-->T-->None-->C-->A-->T-->None-->C-->A-->T-->None-->C-->A-->T-->None-->C-->A-->T-->None-->C-->A-->T-->None-->C-->A-->T-->None-->C-->A-->T-->None-->C-->A-->T-->None-->C-->A-->T-->None-->C-->A-->T-->None-->C-->A-->T-->None-->C-->A-->T-->None-->C-->A-->T-->None-->C-->A-->T-->None-->C-->A-->T-->None-->C-->A-->T-->None-->C-->A-->T-->None-->C-->A-->T-->None-->C-->A-->T-->None-->C-->A-->T-->None-->C-->A-->T-->None-->C-->A-->T-->None-->C-->A-->T-->None-->C-->A-->T-->None-->C-->A-->T-->None-->C-->A-->T-->None-->C-->A-->T-->None-->C-->A-->T-->None-->C-->A-->T-->None-->C-->A-->T-->None-->C-->A-->T-->None-->C-->A-->T-->None-->C-->A-->T-->None-->C-->A-->T-->None-->C-->A-->T-->None-->C-->A-->T-->None-->C-->A-->T-->None-->C-->A-->T-->None-->C-->A-->T-->None-->C-->A-->T-->None-->C-->A-->T-->None-->C-->A-->T-->None-->C-->A-->T-->None-->C-->A-->T-->None-->C-->A-->T-->None-->C-->A-->T-->None-->C-->A-->T-->None-->C-->A-->T-->None-->C-->A-->T-->None-->C-->A-->T-->None-->C-->A-->T-->None-->C-->A-->T-->None-->C-->A-->T-->None-->C-->A-->T-->None-->C-->A-->T-->None-->C-->A-->T-->None-->C-->A-->T-->None-->C-->A-->T-->None-->C-->A-->T-->None-->C-->A-->T-->None-->C-->A-->T-->None-->C-->A-->T-->None-->C-->A-->T-->None-->C-->A-->T-->None-->C-->A-->T-->None-->C-->A-->T-->None-->C-->A-->T-->None-->C-->A-->T-->None-->C-->A-->T-->None-->C-->A-->T-->None-->C-->A-->T-->None-->C-->A-->T-->None-->C-->A-->T-->None-->C-->A-->T-->None-->C-->A-->T-->None-->C-->A-->T-->None-->C-->A-->T-->None-->C-->A-->T-->None-->C-->A-->T-->None-->C-->A-->T-->None-->C-->A-->T-->None-->C-->A-->T-->None-->C-->A-->T-->None-->C-->A-->T-->None-->C-->A-->T-->None-->C-->A-->T-->None-->C-->A-->T-->None-->C-->A-->T-->None-->C-->A-->T-->None-->C-->A-->T-->None-->C-->A-->T-->None-->C-->A-->T-->None-->C-->A-->T-->None-->C-->A-->T-->None-->C-->A-->T-->None-->C-->A-->T-->None-->C-->A-->T-->None-->C-->A-->T-->None-->C-->A-->T-->None-->C-->A-->T-->None-->C-->A-->T-->None-->C-->A-->T-->None-->C-->A-->T-->None-->C-->A-->T-->None-->C-->A-->T-->None-->C-->A-->T-->None-->C-->A-->T-->None-->C-->A-->T-->None-->C-->A-->T-->None-->C-->A-->T-->None-->C-->A-->T-->None-->C-->A-->T-->None-->C-->A-->T-->None-->C-->A-->T-->None-->C-->A-->T-->None-->C-->A-->T-->None-->C-->A-->T-->None-->C-->A-->T-->None-->C-->A-->T-->None-->C-->A-->T-->None-->C-->A-->T-->None-->C-->A-->T-->None-->C-->A-->T-->None-->C-->A-->T-->None-->C-->A-->T-->None-->C-->A-->T-->None-->C-->A-->T-->None-->C-->A-->T-->None-->C-->A-->T-->None-->C-->A-->T-->None-->C-->A-->T-->None-->C-->A-->T-->None-->C-->A-->T-->None-->C-->A-->T-->None-->C-->A-->T-->None-->C-->A-->T-->None-->C-->A-->T-->None-->C-->A-->T-->None-->C-->A-->T-->None-->C-->A-->T-->None-->C-->A-->T-->None-->C-->A-->T-->None-->C-->A-->T-->None-->C-->A-->T-->None-->C-->A-->T-->None-->C-->A-->T-->None-->C-->A-->T-->None-->C-->A-->T-->None-->C-->A-->T-->None-->C-->A-->T-->None-->C-->A-->T-->None-->C-->A-->T-->None-->C-->A-->T-->None-->C-->A-->T-->None-->C-->A-->T-->None-->C-->A-->T-->None-->C-->A-->T-->None-->C-->A-->T-->None-->C-->A-->T-->None-->C-->A-->T-->None-->C-->A-->T-->None-->C-->A-->T-->None-->C-->A-->T-->None-->C-->A-->T-->None-->C-->A-->T-->None-->C-->A-->T-->None-->C-->A-->T-->None-->C-->A-->T-->None-->C-->A-->T-->None-->C-->A-->T-->None-->C-->A-->T-->None-->C-->A-->T-->None-->C-->A-->T-->None-->C-->A-->T-->None-->C-->A-->T-->None-->C-->A-->T-->None-->C-->A-->T-->None-->C-->A-->T-->None-->C-->A-->T-->None-->C-->A-->T-->None-->C-->A-->T-->None-->C-->A-->T-->None-->C-->A-->T-->None-->C-->A-->T-->None-->C-->A-->T-->None-->C-->A-->T-->None-->C-->A-->T-->None-->C-->A-->T-->None-->C-->A-->T-->None-->C-->A-->T-->None-->C-->A-->T-->None-->C-->A-->T-->None-->C-->A-->T-->None-->C-->A-->T-->None-->C-->A-->T-->None-->C-->A-->T-->None-->C-->A-->T-->None-->C-->A-->T-->None-->C-->A-->T-->None-->C-->A-->T-->None-->C-->A-->T-->None-->C-->A-->T-->None-->C-->A-->T-->None-->C-->A-->T-->None-->C-->A-->T-->None-->C-->A-->T-->None-->C-->A-->T-->None-->C-->A-->T-->None-->C-->A-->T-->None-->C-->A-->T-->None-->C-->A-->T-->None-->C-->A-->T-->None-->C-->A-->T-->None-->C-->A-->T-->None-->C-->A-->T-->None-->C-->A-->T-->None-->C-->A-->T-->None-->C-->A-->T-->None-->C-->A-->T-->None-->C-->A-->T-->None-->C-->A-->T-->None-->C-->A-->T-->None-->C-->A-->T-->None-->C-->A-->T-->None-->C-->A-->T-->None-->C-->A-->T-->None-->C-->A-->T-->None-->C-->A-->T-->None-->C-->A-->T-->None-->C-->A-->T-->None-->C-->A-->T-->None-->C-->A-->T-->None-->C-->A-->T-->None-->C-->A-->T-->None-->C-->A-->T-->None-->C-->A-->T-->None-->C-->A-->T-->None-->C-->A-->T-->None-->C-->A-->T-->None-->C-->A-->T-->None-->C-->A-->T-->None-->C-->A-->T-->None-->C-->A-->T-->None-->C-->A-->T-->None-->C-->A-->T-->None-->C-->A-->T-->None-->C-->A-->T-->None-->C-->A-->T-->None-->C-->A-->T-->None-->C-->A-->T-->None-->C-->A-->T-->None-->C-->A-->T-->None-->C-->A-->T-->None-->C-->A-->T-->None-->C-->A-->T-->None-->C-->A-->T-->None-->C-->A-->T-->None-->C-->A-->T-->None-->C-->A-->T-->None-->C-->A-->T-->None-->C-->A-->T-->None-->C-->A-->T-->None-->C-->A-->T-->None-->C-->A-->T-->None-->C-->A-->T-->None-->C-->A-->T-->None-->C-->A-->T-->None-->C-->A-->T-->None-->C-->A-->T-->None-->C-->A-->T-->None-->C-->A-->T-->None-->C-->A-->T-->None-->C-->A-->T-->None-->C-->A-->T-->None-->C-->A-->T-->None-->C-->A-->T-->None-->C-->A-->T-->None-->C-->A-->T-->None-->C-->A-->T-->None-->C-->A-->T-->None-->C-->A-->T-->None-->C-->A-->T-->None-->C-->A-->T-->None-->C-->A-->T-->None-->C-->A-->T-->None-->C-->A-->T-->None-->C-->A-->T-->None-->C-->A-->T-->None-->C-->A-->T-->None-->C-->A-->T-->None-->C-->A-->T-->None-->C-->A-->T-->None-->C-->A-->T-->None-->C-->A-->T-->None-->C-->A-->T-->None-->C-->A-->T-->None-->C-->A-->T-->None-->C-->A-->T-->None-->C-->A-->T-->None-->C-->A-->T-->None-->C-->A-->T-->None-->C-->A-->T-->None-->C-->A-->T-->None-->C-->A-->T-->None-->C-->A-->T-->None-->C-->A-->T-->None-->C-->A-->T-->None-->C-->A-->T-->None-->C-->A-->T-->None-->C-->A-->T-->None-->C-->A-->T-->None-->C-->A-->T-->None-->C-->A-->T-->None-->C-->A-->T-->None-->C-->A-->T-->None-->C-->A-->T-->None-->C-->A-->T-->None-->C-->A-->T-->None-->C-->A-->T-->None-->C-->A-->T-->None-->C-->A-->T-->None-->C-->A-->T-->None-->C-->A-->T-->None-->C-->A-->T-->None-->C-->A-->T-->None-->C-->A-->T-->None-->C-->A-->T-->None-->C-->A-->T-->None-->C-->A-->T-->None-->C-->A-->T-->None-->C-->A-->T-->None-->C-->A-->T-->None-->C-->A-->T-->None-->C-->A-->T-->None-->C-->A-->T-->None-->C-->A-->T-->None-->C-->A-->T-->None-->C-->A-->T-->None-->C-->A-->T-->None-->C-->A-->T-->None-->C-->A-->T-->None-->C-->A-->T-->None-->C-->A-->T-->None-->C-->A-->T-->None-->C-->A-->T-->None-->C-->A-->T-->None-->C-->A-->T-->None-->C-->A-->T-->None-->C-->A-->T-->None-->C-->A-->T-->None-->C-->A-->T-->None-->C-->A-->T-->None-->C-->A-->T-->None-->C-->A-->T-->None-->C-->A-->T-->None-->C-->A-->T-->None-->C-->A-->T-->None-->C-->A-->T-->None-->C-->A-->T-->None-->C-->A-->T-->None-->C-->A-->T-->None-->C-->A-->T-->None-->C-->A-->T-->None-->C-->A-->T-->None-->C-->A-->T-->None-->C-->A-->T-->None-->C-->A-->T-->None-->C-->A-->T-->None-->C-->A-->T-->None-->C-->A-->T-->None-->C-->A-->T-->None-->C-->A-->T-->None-->C-->A-->T-->None-->C-->A-->T-->None-->C-->A-->T-->None-->C-->A-->T-->None-->C-->A-->T-->None-->C-->A-->T-->None-->C-->A-->T-->None-->C-->A-->T-->None-->C-->A-->T-->None-->C-->A-->T-->None-->C-->A-->T-->None-->C-->A-->T-->None-->C-->A-->T-->None-->C-->A-->T-->None-->C-->A-->T-->None-->C-->A-->T-->None-->C-->A-->T-->None-->C-->A-->T-->None-->C-->A-->T-->None-->C-->A-->T-->None-->C-->A-->T-->None-->C-->A-->T-->None-->C-->A-->T-->None-->C-->A-->T-->None-->C-->A-->T-->None-->C-->A-->T-->None-->C-->A-->T-->None-->C-->A-->T-->None-->C-->A-->T-->None-->C-->A-->T-->None-->C-->A-->T-->None-->C-->A-->T-->None-->C-->A-->T-->None-->C-->A-->T-->None-->C-->A-->T-->None-->C-->A-->T-->None-->C-->A-->T-->None-->C-->A-->T-->None-->C-->A-->T-->None-->C-->A-->T-->None-->C-->A-->T-->None-->C-->A-->T-->None-->C-->A-->T-->None-->C-->A-->T-->None-->C-->A-->T-->None-->C-->A-->T-->None-->C-->A-->T-->None-->C-->A-->T-->None-->C-->A-->T-->None-->C-->A-->T-->None-->C-->A-->T-->None-->C-->A-->T-->None-->C-->A-->T-->None-->C-->A-->T-->None-->C-->A-->T-->None-->C-->A-->T-->None-->C-->A-->T-->None-->C-->A-->T-->None-->C-->A-->T-->None-->C-->A-->T-->None-->C-->A-->T-->None-->C-->A-->T-->None-->C-->A-->T-->None-->C-->A-->T-->None-->C-->A-->T-->None-->C-->A-->T-->None-->C-->A-->T-->None-->C-->A-->T-->None-->C-->A-->T-->None-->C-->A-->T-->None-->C-->A-->T-->None-->C-->A-->T-->None-->C-->A-->T-->None-->C-->A-->T-->None-->C-->A-->T-->None-->C-->A-->T-->None-->C-->A-->T-->None-->C-->A-->T-->None-->C-->A-->T-->None-->C-->A-->T-->None-->C-->A-->T-->None-->C-->A-->T-->None-->C-->A-->T-->None-->C-->A-->T-->None-->C-->A-->T-->None-->C-->A-->T-->None-->C-->A-->T-->None-->C-->A-->T-->None-->C-->A-->T-->None-->C-->A-->T-->None-->C-->A-->T-->None-->C-->A-->T-->None-->C-->A-->T-->None-->C-->A-->T-->None-->C-->A-->T-->None-->C-->A-->T-->None-->C-->A-->T-->None-->C-->A-->T-->None-->C-->A-->T-->None-->C-->A-->T-->None-->C-->A-->T-->None-->C-->A-->T-->None-->C-->A-->T-->None-->C-->A-->T-->None-->C-->A-->T-->None-->C-->A-->T-->None-->C-->A-->T-->None-->C-->A-->T-->None-->C-->A-->T-->None-->C-->A-->T-->None-->C-->A-->T-->None-->C-->A-->T-->None-->C-->A-->T-->None-->C-->A-->T-->None-->C-->A-->T-->None-->C-->A-->T-->None-->C-->A-->T-->None-->C-->A-->T-->None-->C-->A-->T-->None-->C-->A-->T-->None-->C-->A-->T-->None-->C-->A-->T-->None-->C-->A-->T-->None-->C-->A-->T-->None-->C-->A-->T-->None-->C-->A-->T-->None-->C-->A-->T-->None-->C-->A-->T-->None-->C-->A-->T-->None-->C-->A-->T-->None-->C-->A-->T-->None-->C-->A-->T-->None-->C-->A-->T-->None-->C-->A-->T-->None-->C-->A-->T-->None-->C-->A-->T-->None-->C-->A-->T-->None-->C-->A-->T-->None-->C-->A-->T-->None-->C-->A-->T-->None-->C-->A-->T-->None-->C-->A-->T-->None-->C-->A-->T-->None-->C-->A-->T-->None-->C-->A-->T-->None-->C-->A-->T-->None-->C-->A-->T-->None-->C-->A-->T-->None-->C-->A-->T-->None-->C-->A-->T-->None-->C-->A-->T-->None-->C-->A-->T-->None-->C-->A-->T-->None-->C-->A-->T-->None-->C-->A-->T-->None-->C-->A-->T-->None-->C-->A-->T-->None-->C-->A-->T-->None-->C-->A-->T-->None-->C-->A-->T-->None-->C-->A-->T-->None-->C-->A-->T-->None-->C-->A-->T-->None-->C-->A-->T-->None-->C-->A-->T-->None-->C-->A-->T-->None-->C-->A-->T-->None-->C-->A-->T-->None-->C-->A-->T-->None-->C-->A-->T-->None-->C-->A-->T-->None-->C-->A-->T-->None-->C-->A-->T-->None-->C-->A-->T-->None-->C-->A-->T-->None-->C-->A-->T-->None-->C-->A-->T-->None-->C-->A-->T-->None-->C-->A-->T-->None-->C-->A-->T-->None-->C-->A-->T-->None-->C-->A-->T-->None-->C-->A-->T-->None-->C-->A-->T-->None-->C-->A-->T-->None-->C-->A-->T-->None-->C-->A-->T-->None-->C-->A-->T-->None-->C-->A-->T-->None-->C-->A-->T-->None-->C-->A-->T-->None-->C-->A-->T-->None-->C-->A-->T-->None-->C-->A-->T-->None-->C-->A-->T-->None-->C-->A-->T-->None-->C-->A-->T-->None-->C-->A-->T-->None-->C-->A-->T-->None-->C-->A-->T-->None-->C-->A-->T-->None-->C-->A-->T-->None-->C-->A-->T-->None-->C-->A-->T-->None-->C-->A-->T-->None-->C-->A-->T-->None-->C-->A-->T-->None-->C-->A-->T-->None-->C-->A-->T-->None-->C-->A-->T-->None-->C-->A-->T-->None-->C-->A-->T-->None-->C-->A-->T-->None-->C-->A-->T-->None-->C-->A-->T-->None-->C-->A-->T-->None-->C-->A-->T-->None-->C-->A-->T-->None-->C-->A-->T-->None-->C-->A-->T-->None-->C-->A-->T-->None-->C-->A-->T-->None-->C-->A-->T-->None-->C-->A-->T-->None-->C-->A-->T-->None-->C-->A-->T-->None-->C-->A-->T-->None-->C-->A-->T-->None-->C-->A-->T-->None-->C-->A-->T-->None-->C-->A-->T-->None-->C-->A-->T-->None-->C-->A-->T-->None-->C-->A-->T-->None-->C-->A-->T-->None-->C-->A-->T-->None-->C-->A-->T-->None-->C-->A-->T-->None-->C-->A-->T-->None-->C-->A-->T-->None-->C-->A-->T-->None-->C-->A-->T-->None-->C-->A-->T-->None-->C-->A-->T-->None-->C-->A-->T-->None-->C-->A-->T-->None-->C-->A-->T-->None-->C-->A-->T-->None-->C-->A-->T-->None-->C-->A-->T-->None-->C-->A-->T-->None-->C-->A-->T-->None-->C-->A-->T-->None-->C-->A-->T-->None-->C-->A-->T-->None-->C-->A-->T-->None-->C-->A-->T-->None-->C-->A-->T-->None-->C-->A-->T-->None-->C-->A-->T-->None-->C-->A-->T-->None-->C-->A-->T-->None-->C-->A-->T-->None-->C-->A-->T-->None-->C-->A-->T-->None-->C-->A-->T-->None-->C-->A-->T-->None-->C-->A-->T-->None-->C-->A-->T-->None-->C-->A-->T-->None-->C-->A-->T-->None-->C-->A-->T-->None-->C-->A-->T-->None-->C-->A-->T-->None-->C-->A-->T-->None-->C-->A-->T-->None-->C-->A-->T-->None-->C-->A-->T-->None-->C-->A-->T-->None-->C-->A-->T-->None-->C-->A-->T-->None-->C-->A-->T-->None-->C-->A-->T-->None-->C-->A-->T-->None-->C-->A-->T-->None-->C-->A-->T-->None-->C-->A-->T-->None-->C-->A-->T-->None-->C-->A-->T-->None-->C-->A-->T-->None-->C-->A-->T-->None-->C-->A-->T-->None-->C-->A-->T-->None-->C-->A-->T-->None-->C-->A-->T-->None-->C-->A-->T-->None-->C-->A-->T-->None-->C-->A-->T-->None-->C-->A-->T-->None-->C-->A-->T-->None-->C-->A-->T-->None-->C-->A-->T-->None-->C-->A-->T-->None-->C-->A-->T-->None-->C-->A-->T-->None-->C-->A-->T-->None-->C-->A-->T-->None-->C-->A-->T-->None-->C-->A-->T-->None-->C-->A-->T-->None-->C-->A-->T-->None-->C-->A-->T-->None-->C-->A-->T-->None-->C-->A-->T-->None-->C-->A-->T-->None-->C-->A-->T-->None-->C-->A-->T-->None-->C-->A-->T-->None-->C-->A-->T-->None-->C-->A-->T-->None-->C-->A-->T-->None-->C-->A-->T-->None-->C-->A-->T-->None-->C-->A-->T-->None-->C-->A-->T-->None-->C-->A-->T-->None-->C-->A-->T-->None-->C-->A-->T-->None-->C-->A-->T-->None-->C-->A-->T-->None-->C-->A-->T-->None-->C-->A-->T-->None-->C-->A-->T-->None-->C-->A-->T-->None-->C-->A-->T-->None-->C-->A-->T-->None-->C-->A-->T-->None-->C-->A-->T-->None-->C-->A-->T-->None-->C-->A-->T-->None-->C-->A-->T-->None-->C-->A-->T-->None-->C-->A-->T-->None-->C-->A-->T-->None-->C-->A-->T-->None-->C-->A-->T-->None-->C-->A-->T-->None-->C-->A-->T-->None-->C-->A-->T-->None-->C-->A-->T-->None-->C-->A-->T-->None-->C-->A-->T-->None-->C-->A-->T-->None-->C-->A-->T-->None-->C-->A-->T-->None-->C-->A-->T-->None-->C-->A-->T-->None-->C-->A-->T-->None-->C-->A-->T-->None-->C-->A-->T-->None-->C-->A-->T-->None-->C-->A-->T-->None-->C-->A-->T-->None-->C-->A-->T-->None-->C-->A-->T-->None-->C-->A-->T-->None-->C-->A-->T-->None-->C-->A-->T-->None-->C-->A-->T-->None-->C-->A-->T-->None-->C-->A-->T-->None-->C-->A-->T-->None-->C-->A-->T-->None-->C-->A-->T-->None-->C-->A-->T-->None-->C-->A-->T-->None-->C-->A-->T-->None-->C-->A-->T-->None-->C-->A-->T-->None-->C-->A-->T-->None-->C-->A-->T-->None-->C-->A-->T-->None-->C-->A-->T-->None-->C-->A-->T-->None-->C-->A-->T-->None-->C-->A-->T-->None-->C-->A-->T-->None-->C-->A-->T-->None-->C-->A-->T-->None-->C-->A-->T-->None-->C-->A-->T-->None-->C-->A-->T-->None-->C-->A-->T-->None-->C-->A-->T-->None-->C-->A-->T-->None-->C-->A-->T-->None-->C-->A-->T-->None-->C-->A-->T-->None-->C-->A-->T-->None-->C-->A-->T-->None-->C-->A-->T-->None-->C-->A-->T-->None-->C-->A-->T-->None-->C-->A-->T-->None-->C-->A-->T-->None-->C-->A-->T-->None-->C-->A-->T-->None-->C-->A-->T-->None-->C-->A-->T-->None-->C-->A-->T-->None-->C-->A-->T-->None-->C-->A-->T-->None-->C-->A-->T-->None-->C-->A-->T-->None-->C-->A-->T-->None-->C-->A-->T-->None-->C-->A-->T-->None-->C-->A-->T-->None-->C-->A-->T-->None-->C-->A-->T-->None-->C-->A-->T-->None-->C-->A-->T-->None-->C-->A-->T-->None-->C-->A-->T-->None-->C-->A-->T-->None-->C-->A-->T-->None-->C-->A-->T-->None-->C-->A-->T-->None-->C-->A-->T-->None-->C-->A-->T-->None-->C-->A-->T-->None-->C-->A-->T-->None-->C-->A-->T-->None-->C-->A-->T-->None-->C-->A-->T-->None-->C-->A-->T-->None-->C-->A-->T-->None-->C-->A-->T-->None-->C-->A-->T-->None-->C-->A-->T-->None-->C-->A-->T-->None-->C-->A-->T-->None-->C-->A-->T-->None-->C-->A-->T-->None-->C-->A-->T-->None-->C-->A-->T-->None-->C-->A-->T-->None-->C-->A-->T-->None-->C-->A-->T-->None-->C-->A-->T-->None-->C-->A-->T-->None-->C-->A-->T-->None-->C-->A-->T-->None-->C-->A-->T-->None-->C-->A-->T-->None-->C-->A-->T-->None-->C-->A-->T-->None-->C-->A-->T-->None-->C-->A-->T-->None-->C-->A-->T-->None-->C-->A-->T-->None-->C-->A-->T-->None-->C-->A-->T-->None-->C-->A-->T-->None-->C-->A-->T-->None-->C-->A-->T-->None-->C-->A-->T-->None-->C-->A-->T-->None-->C-->A-->T-->None-->C-->A-->T-->None-->C-->A-->T-->None-->C-->A-->T-->None-->C-->A-->T-->None-->C-->A-->T-->None-->C-->A-->T-->None-->C-->A-->T-->None-->C-->A-->T-->None-->C-->A-->T-->None-->C-->A-->T-->None-->C-->A-->T-->None-->C-->A-->T-->None-->C-->A-->T-->None-->C-->A-->T-->None-->C-->A-->T-->None-->C-->A-->T-->None-->C-->A-->T-->None-->C-->A-->T-->None-->C-->A-->T-->None-->C-->A-->T-->None-->C-->A-->T-->None-->C-->A-->T-->None-->C-->A-->T-->None-->C-->A-->T-->None-->C-->A-->T-->None-->C-->A-->T-->None-->C-->A-->T-->None-->C-->A-->T-->None-->C-->A-->T-->None-->C-->A-->T-->None-->C-->A-->T-->None-->C-->A-->T-->None-->C-->A-->T-->None-->C-->A-->T-->None-->C-->A-->T-->None-->C-->A-->T-->None-->C-->A-->T-->None-->C-->A-->T-->None-->C-->A-->T-->None-->C-->A-->T-->None-->C-->A-->T-->None-->C-->A-->T-->None-->C-->A-->T-->None-->C-->A-->T-->None-->C-->A-->T-->None-->C-->A-->T-->None-->C-->A-->T-->None-->C-->A-->T-->None-->C-->A-->T-->None-->C-->A-->T-->None-->C-->A-->T-->None-->C-->A-->T-->None-->C-->A-->T-->None-->C-->A-->T-->None-->C-->A-->T-->None-->C-->A-->T-->None-->C-->A-->T-->None-->C-->A-->T-->None-->C-->A-->T-->None-->C-->A-->T-->None-->C-->A-->T-->None-->C-->A-->T-->None-->C-->A-->T-->None-->C-->A-->T-->None-->C-->A-->T-->None-->C-->A-->T-->None-->C-->A-->T-->None-->C-->A-->T-->None-->C-->A-->T-->None-->C-->A-->T-->None-->C-->A-->T-->None-->C-->A-->T-->None-->C-->A-->T-->None-->C-->A-->T-->None-->C-->A-->T-->None-->C-->A-->T-->None-->C-->A-->T-->None-->C-->A-->T-->None-->C-->A-->T-->None-->C-->A-->T-->None-->C-->A-->T-->None-->C-->A-->T-->None-->C-->A-->T-->None-->C-->A-->T-->None-->C-->A-->T-->None-->C-->A-->T-->None-->C-->A-->T-->None-->C-->A-->T-->None-->C-->A-->T-->None-->C-->A-->T-->None-->C-->A-->T-->None-->C-->A-->T-->None-->C-->A-->T-->None-->C-->A-->T-->None-->C-->A-->T-->None-->C-->A-->T-->None-->C-->A-->T-->None-->C-->A-->T-->None-->C-->A-->T-->None-->C-->A-->T-->None-->C-->A-->T-->None-->C-->A-->T-->None-->C-->A-->T-->None-->C-->A-->T-->None-->C-->A-->T-->None-->C-->A-->T-->None-->C-->A-->T-->None-->C-->A-->T-->None-->C-->A-->T-->None-->C-->A-->T-->None-->C-->A-->T-->None-->C-->A-->T-->None-->C-->A-->T-->None-->C-->A-->T-->None-->C-->A-->T-->None-->C-->A-->T-->None-->C-->A-->T-->None-->C-->A-->T-->None-->C-->A-->T-->None-->C-->A-->T-->None-->C-->A-->T-->None-->C-->A-->T-->None-->C-->A-->T-->None-->C-->A-->T-->None-->C-->A-->T-->None-->C-->A-->T-->None-->C-->A-->T-->None-->C-->A-->T-->None-->C-->A-->T-->None-->C-->A-->T-->None-->C-->A-->T-->None-->C-->A-->T-->None-->C-->A-->T-->None-->C-->A-->T-->None-->C-->A-->T-->None-->C-->A-->T-->None-->C-->A-->T-->None-->C-->A-->T-->None-->C-->A-->T-->None-->C-->A-->T-->None-->C-->A-->T-->None-->C-->A-->T-->None-->C-->A-->T-->None-->C-->A-->T-->None-->C-->A-->T-->None-->C-->A-->T-->None-->C-->A-->T-->None-->C-->A-->T-->None-->C-->A-->T-->None-->C-->A-->T-->None-->C-->A-->T-->None-->C-->A-->T-->None-->C-->A-->T-->None-->C-->A-->T-->None-->C-->A-->T-->None-->C-->A-->T-->None-->C-->A-->T-->None-->C-->A-->T-->None-->C-->A-->T-->None-->C-->A-->T-->None-->C-->A-->T-->None-->C-->A-->T-->None-->C-->A-->T-->None-->C-->A-->T-->None-->C-->A-->T-->None-->C-->A-->T-->None-->C-->A-->T-->None-->C-->A-->T-->None-->C-->A-->T-->None-->C-->A-->T-->None-->C-->A-->T-->None-->C-->A-->T-->None-->C-->A-->T-->None-->C-->A-->T-->None-->C-->A-->T-->None-->C-->A-->T-->None-->C-->A-->T-->None-->C-->A-->T-->None-->C-->A-->T-->None-->C-->A-->T-->None-->C-->A-->T-->None-->C-->A-->T-->None-->C-->A-->T-->None-->C-->A-->T-->None-->C-->A-->T-->None-->C-->A-->T-->None-->C-->A-->T-->None-->C-->A-->T-->None-->C-->A-->T-->None-->C-->A-->T-->None-->C-->A-->T-->None-->C-->A-->T-->None-->C-->A-->T-->None-->C-->A-->T-->None-->C-->A-->T-->None-->C-->A-->T-->None-->C-->A-->T-->None-->C-->A-->T-->None-->C-->A-->T-->None-->C-->A-->T-->None-->C-->A-->T-->None-->C-->A-->T-->None-->C-->A-->T-->None-->C-->A-->T-->None-->C-->A-->T-->None-->C-->A-->T-->None-->C-->A-->T-->None-->C-->A-->T-->None-->C-->A-->T-->None-->C-->A-->T-->None-->C-->A-->T-->None-->C-->A-->T-->None-->C-->A-->T-->None-->C-->A-->T-->None-->C-->A-->T-->None-->C-->A-->T-->None-->C-->A-->T-->None-->C-->A-->T-->None-->C-->A-->T-->None-->C-->A-->T-->None-->C-->A-->T-->None-->C-->A-->T-->None-->C-->A-->T-->None-->C-->A-->T-->None-->C-->A-->T-->None-->C-->A-->T-->None-->C-->A-->T-->None-->C-->A-->T-->None-->C-->A-->T-->None-->C-->A-->T-->None-->C-->A-->T-->None-->C-->A-->T-->None-->C-->A-->T-->None-->C-->A-->T-->None-->C-->A-->T-->None-->C-->A-->T-->None-->C-->A-->T-->None-->C-->A-->T-->None-->C-->A-->T-->None-->C-->A-->T-->None-->C-->A-->T-->None-->C-->A-->T-->None-->C-->A-->T-->None-->C-->A-->T-->None-->C-->A-->T-->None-->C-->"
          ]
        },
        {
          "output_type": "error",
          "ename": "KeyboardInterrupt",
          "evalue": "",
          "traceback": [
            "\u001b[0;31m---------------------------------------------------------------------------\u001b[0m",
            "\u001b[0;31mKeyboardInterrupt\u001b[0m                         Traceback (most recent call last)",
            "\u001b[0;32m<ipython-input-48-e79cbd8d7a74>\u001b[0m in \u001b[0;36m<cell line: 42>\u001b[0;34m()\u001b[0m\n\u001b[1;32m     40\u001b[0m \u001b[0mresult\u001b[0m \u001b[0;34m=\u001b[0m \u001b[0mword_Decoder\u001b[0m\u001b[0;34m(\u001b[0m\u001b[0mhead\u001b[0m\u001b[0;34m)\u001b[0m\u001b[0;34m\u001b[0m\u001b[0;34m\u001b[0m\u001b[0m\n\u001b[1;32m     41\u001b[0m \u001b[0mprint\u001b[0m\u001b[0;34m(\u001b[0m\u001b[0;34m\"Decoded Word:\"\u001b[0m\u001b[0;34m)\u001b[0m\u001b[0;34m\u001b[0m\u001b[0;34m\u001b[0m\u001b[0m\n\u001b[0;32m---> 42\u001b[0;31m \u001b[0mprintLinkedList\u001b[0m\u001b[0;34m(\u001b[0m\u001b[0mresult\u001b[0m\u001b[0;34m)\u001b[0m    \u001b[0;31m#This should print None→C→A→T\u001b[0m\u001b[0;34m\u001b[0m\u001b[0;34m\u001b[0m\u001b[0m\n\u001b[0m\u001b[1;32m     43\u001b[0m \u001b[0;34m\u001b[0m\u001b[0m\n\u001b[1;32m     44\u001b[0m \u001b[0mprint\u001b[0m\u001b[0;34m(\u001b[0m\u001b[0;34m'==============Test Case 2============='\u001b[0m\u001b[0;34m)\u001b[0m\u001b[0;34m\u001b[0m\u001b[0;34m\u001b[0m\u001b[0m\n",
            "\u001b[0;32m<ipython-input-2-32e6aaf9c18b>\u001b[0m in \u001b[0;36mprintLinkedList\u001b[0;34m(head)\u001b[0m\n\u001b[1;32m     17\u001b[0m   \u001b[0;32mwhile\u001b[0m \u001b[0mtemp\u001b[0m \u001b[0;34m!=\u001b[0m \u001b[0;32mNone\u001b[0m\u001b[0;34m:\u001b[0m\u001b[0;34m\u001b[0m\u001b[0;34m\u001b[0m\u001b[0m\n\u001b[1;32m     18\u001b[0m     \u001b[0;32mif\u001b[0m \u001b[0mtemp\u001b[0m\u001b[0;34m.\u001b[0m\u001b[0mnext\u001b[0m \u001b[0;34m!=\u001b[0m \u001b[0;32mNone\u001b[0m\u001b[0;34m:\u001b[0m\u001b[0;34m\u001b[0m\u001b[0;34m\u001b[0m\u001b[0m\n\u001b[0;32m---> 19\u001b[0;31m       \u001b[0mprint\u001b[0m\u001b[0;34m(\u001b[0m\u001b[0mtemp\u001b[0m\u001b[0;34m.\u001b[0m\u001b[0melem\u001b[0m\u001b[0;34m,\u001b[0m \u001b[0mend\u001b[0m \u001b[0;34m=\u001b[0m \u001b[0;34m'-->'\u001b[0m\u001b[0;34m)\u001b[0m\u001b[0;34m\u001b[0m\u001b[0;34m\u001b[0m\u001b[0m\n\u001b[0m\u001b[1;32m     20\u001b[0m     \u001b[0;32melse\u001b[0m\u001b[0;34m:\u001b[0m\u001b[0;34m\u001b[0m\u001b[0;34m\u001b[0m\u001b[0m\n\u001b[1;32m     21\u001b[0m       \u001b[0mprint\u001b[0m\u001b[0;34m(\u001b[0m\u001b[0mtemp\u001b[0m\u001b[0;34m.\u001b[0m\u001b[0melem\u001b[0m\u001b[0;34m)\u001b[0m\u001b[0;34m\u001b[0m\u001b[0;34m\u001b[0m\u001b[0m\n",
            "\u001b[0;32m/usr/local/lib/python3.10/dist-packages/ipykernel/iostream.py\u001b[0m in \u001b[0;36mwrite\u001b[0;34m(self, string)\u001b[0m\n\u001b[1;32m    400\u001b[0m             \u001b[0mis_child\u001b[0m \u001b[0;34m=\u001b[0m \u001b[0;34m(\u001b[0m\u001b[0;32mnot\u001b[0m \u001b[0mself\u001b[0m\u001b[0;34m.\u001b[0m\u001b[0m_is_master_process\u001b[0m\u001b[0;34m(\u001b[0m\u001b[0;34m)\u001b[0m\u001b[0;34m)\u001b[0m\u001b[0;34m\u001b[0m\u001b[0;34m\u001b[0m\u001b[0m\n\u001b[1;32m    401\u001b[0m             \u001b[0;31m# only touch the buffer in the IO thread to avoid races\u001b[0m\u001b[0;34m\u001b[0m\u001b[0;34m\u001b[0m\u001b[0m\n\u001b[0;32m--> 402\u001b[0;31m             \u001b[0mself\u001b[0m\u001b[0;34m.\u001b[0m\u001b[0mpub_thread\u001b[0m\u001b[0;34m.\u001b[0m\u001b[0mschedule\u001b[0m\u001b[0;34m(\u001b[0m\u001b[0;32mlambda\u001b[0m \u001b[0;34m:\u001b[0m \u001b[0mself\u001b[0m\u001b[0;34m.\u001b[0m\u001b[0m_buffer\u001b[0m\u001b[0;34m.\u001b[0m\u001b[0mwrite\u001b[0m\u001b[0;34m(\u001b[0m\u001b[0mstring\u001b[0m\u001b[0;34m)\u001b[0m\u001b[0;34m)\u001b[0m\u001b[0;34m\u001b[0m\u001b[0;34m\u001b[0m\u001b[0m\n\u001b[0m\u001b[1;32m    403\u001b[0m             \u001b[0;32mif\u001b[0m \u001b[0mis_child\u001b[0m\u001b[0;34m:\u001b[0m\u001b[0;34m\u001b[0m\u001b[0;34m\u001b[0m\u001b[0m\n\u001b[1;32m    404\u001b[0m                 \u001b[0;31m# mp.Pool cannot be trusted to flush promptly (or ever),\u001b[0m\u001b[0;34m\u001b[0m\u001b[0;34m\u001b[0m\u001b[0m\n",
            "\u001b[0;32m/usr/local/lib/python3.10/dist-packages/ipykernel/iostream.py\u001b[0m in \u001b[0;36mschedule\u001b[0;34m(self, f)\u001b[0m\n\u001b[1;32m    201\u001b[0m             \u001b[0mself\u001b[0m\u001b[0;34m.\u001b[0m\u001b[0m_events\u001b[0m\u001b[0;34m.\u001b[0m\u001b[0mappend\u001b[0m\u001b[0;34m(\u001b[0m\u001b[0mf\u001b[0m\u001b[0;34m)\u001b[0m\u001b[0;34m\u001b[0m\u001b[0;34m\u001b[0m\u001b[0m\n\u001b[1;32m    202\u001b[0m             \u001b[0;31m# wake event thread (message content is ignored)\u001b[0m\u001b[0;34m\u001b[0m\u001b[0;34m\u001b[0m\u001b[0m\n\u001b[0;32m--> 203\u001b[0;31m             \u001b[0mself\u001b[0m\u001b[0;34m.\u001b[0m\u001b[0m_event_pipe\u001b[0m\u001b[0;34m.\u001b[0m\u001b[0msend\u001b[0m\u001b[0;34m(\u001b[0m\u001b[0;34mb''\u001b[0m\u001b[0;34m)\u001b[0m\u001b[0;34m\u001b[0m\u001b[0;34m\u001b[0m\u001b[0m\n\u001b[0m\u001b[1;32m    204\u001b[0m         \u001b[0;32melse\u001b[0m\u001b[0;34m:\u001b[0m\u001b[0;34m\u001b[0m\u001b[0;34m\u001b[0m\u001b[0m\n\u001b[1;32m    205\u001b[0m             \u001b[0mf\u001b[0m\u001b[0;34m(\u001b[0m\u001b[0;34m)\u001b[0m\u001b[0;34m\u001b[0m\u001b[0;34m\u001b[0m\u001b[0m\n",
            "\u001b[0;32m/usr/local/lib/python3.10/dist-packages/zmq/sugar/socket.py\u001b[0m in \u001b[0;36msend\u001b[0;34m(self, data, flags, copy, track, routing_id, group)\u001b[0m\n\u001b[1;32m    618\u001b[0m                 )\n\u001b[1;32m    619\u001b[0m             \u001b[0mdata\u001b[0m\u001b[0;34m.\u001b[0m\u001b[0mgroup\u001b[0m \u001b[0;34m=\u001b[0m \u001b[0mgroup\u001b[0m\u001b[0;34m\u001b[0m\u001b[0;34m\u001b[0m\u001b[0m\n\u001b[0;32m--> 620\u001b[0;31m         \u001b[0;32mreturn\u001b[0m \u001b[0msuper\u001b[0m\u001b[0;34m(\u001b[0m\u001b[0;34m)\u001b[0m\u001b[0;34m.\u001b[0m\u001b[0msend\u001b[0m\u001b[0;34m(\u001b[0m\u001b[0mdata\u001b[0m\u001b[0;34m,\u001b[0m \u001b[0mflags\u001b[0m\u001b[0;34m=\u001b[0m\u001b[0mflags\u001b[0m\u001b[0;34m,\u001b[0m \u001b[0mcopy\u001b[0m\u001b[0;34m=\u001b[0m\u001b[0mcopy\u001b[0m\u001b[0;34m,\u001b[0m \u001b[0mtrack\u001b[0m\u001b[0;34m=\u001b[0m\u001b[0mtrack\u001b[0m\u001b[0;34m)\u001b[0m\u001b[0;34m\u001b[0m\u001b[0;34m\u001b[0m\u001b[0m\n\u001b[0m\u001b[1;32m    621\u001b[0m \u001b[0;34m\u001b[0m\u001b[0m\n\u001b[1;32m    622\u001b[0m     def send_multipart(\n",
            "\u001b[0;32mzmq/backend/cython/socket.pyx\u001b[0m in \u001b[0;36mzmq.backend.cython.socket.Socket.send\u001b[0;34m()\u001b[0m\n",
            "\u001b[0;32mzmq/backend/cython/socket.pyx\u001b[0m in \u001b[0;36mzmq.backend.cython.socket.Socket.send\u001b[0;34m()\u001b[0m\n",
            "\u001b[0;32mzmq/backend/cython/socket.pyx\u001b[0m in \u001b[0;36mzmq.backend.cython.socket._send_copy\u001b[0;34m()\u001b[0m\n",
            "\u001b[0;32m/usr/local/lib/python3.10/dist-packages/zmq/backend/cython/checkrc.pxd\u001b[0m in \u001b[0;36mzmq.backend.cython.checkrc._check_rc\u001b[0;34m()\u001b[0m\n",
            "\u001b[0;31mKeyboardInterrupt\u001b[0m: "
          ]
        }
      ]
    },
    {
      "cell_type": "markdown",
      "source": [
        "Task 5: Alternate Merge"
      ],
      "metadata": {
        "id": "KH4qPwI-nIN4"
      }
    },
    {
      "cell_type": "code",
      "source": [
        "def alternate_merge(head1, head2):\n",
        "    #TO DO\n",
        "    if not head1:\n",
        "        return head2\n",
        "    if not head2:\n",
        "        return head1\n",
        "\n",
        "    crnt1 = head1\n",
        "    crnt2 = head2\n",
        "\n",
        "    while crnt1 and crnt2:\n",
        "        next1 = crnt1.next\n",
        "        next2 = crnt2.next\n",
        "\n",
        "        crnt1.next = crnt2\n",
        "        crnt2.next = next1\n",
        "\n",
        "        crnt1 = next1\n",
        "        crnt2 = next2\n",
        "\n",
        "    return head1\n",
        "\n",
        "\n",
        "print('==============Test Case 1=============')\n",
        "head1 = createList(np.array([1,2,6,8,11]))\n",
        "head2 = createList(np.array([5,7,3,9,4]))\n",
        "\n",
        "print(\"Linked List 1:\")\n",
        "printLinkedList(head1)\n",
        "print(\"Linked List 2:\")\n",
        "printLinkedList(head2)\n",
        "\n",
        "head = alternate_merge(head1, head2)\n",
        "print(\"Merged Linked List:\")\n",
        "printLinkedList(head)    #This should print    1 --> 5 --> 2 --> 7 --> 6 --> 3 --> 8 --> 9 --> 11 --> 4\n",
        "\n",
        "\n",
        "print('==============Test Case 2=============')\n",
        "head1 = createList(np.array([5, 3, 2, -4]))\n",
        "head2 = createList(np.array([-4, -6, 1]))\n",
        "\n",
        "print(\"Linked List 1:\")\n",
        "printLinkedList(head1)\n",
        "print(\"Linked List 2:\")\n",
        "printLinkedList(head2)\n",
        "\n",
        "head = alternate_merge(head1, head2)\n",
        "print(\"Merged Linked List:\")\n",
        "printLinkedList(head)    #This should print    5 → -4 -> 3 → -6 -> 2 -> 1 -> -4\n",
        "\n",
        "\n",
        "print('==============Test Case 3=============')\n",
        "head1 = createList(np.array([4, 2, -2, -4]))\n",
        "head2 = createList(np.array([8, 6, 5, -3]))\n",
        "\n",
        "print(\"Linked List 1:\")\n",
        "printLinkedList(head1)\n",
        "print(\"Linked List 2:\")\n",
        "printLinkedList(head2)\n",
        "\n",
        "head = alternate_merge(head1, head2)\n",
        "print(\"Merged Linked List:\")\n",
        "printLinkedList(head)    #This should print   4-> 8 → 2-> 6 → -2 → 5 → -4 -> -3\n"
      ],
      "metadata": {
        "id": "0D7bZtp1nMRI",
        "colab": {
          "base_uri": "https://localhost:8080/"
        },
        "outputId": "e3072747-96b5-478c-e551-9f77a14cbb6a"
      },
      "execution_count": 8,
      "outputs": [
        {
          "output_type": "stream",
          "name": "stdout",
          "text": [
            "==============Test Case 1=============\n",
            "Linked List 1:\n",
            "1-->2-->6-->8-->11\n",
            "\n",
            "Linked List 2:\n",
            "5-->7-->3-->9-->4\n",
            "\n",
            "Merged Linked List:\n",
            "1-->5-->2-->7-->6-->3-->8-->9-->11-->4\n",
            "\n",
            "==============Test Case 2=============\n",
            "Linked List 1:\n",
            "5-->3-->2-->-4\n",
            "\n",
            "Linked List 2:\n",
            "-4-->-6-->1\n",
            "\n",
            "Merged Linked List:\n",
            "5-->-4-->3-->-6-->2-->1-->-4\n",
            "\n",
            "==============Test Case 3=============\n",
            "Linked List 1:\n",
            "4-->2-->-2-->-4\n",
            "\n",
            "Linked List 2:\n",
            "8-->6-->5-->-3\n",
            "\n",
            "Merged Linked List:\n",
            "4-->8-->2-->6-->-2-->5-->-4-->-3\n",
            "\n"
          ]
        }
      ]
    },
    {
      "cell_type": "markdown",
      "source": [
        "Task 6: Sum of Nodes"
      ],
      "metadata": {
        "id": "g8b2lKE5o4HE"
      }
    },
    {
      "cell_type": "code",
      "source": [
        "def sum_dist(head, arr):\n",
        "  #TO DO\n",
        "    temp = head\n",
        "    total = 0\n",
        "\n",
        "    for i in arr:\n",
        "        for j in range(i):\n",
        "            if temp is not None:\n",
        "                temp = temp.next\n",
        "            else:\n",
        "                return total\n",
        "\n",
        "        if temp is not None:\n",
        "            total += temp.elem\n",
        "        temp = head\n",
        "\n",
        "    return total\n",
        "\n",
        "\n",
        "print('==============Test Case 1=============')\n",
        "LL1 = createList(np.array([10,16,-5,9,3,4]))\n",
        "dist = np.array([2,0,5,2,8])\n",
        "returned_value = sum_dist(LL1, dist)\n",
        "print(f'Sum of Nodes: {returned_value}') #This should print Sum of Nodes: 4\n",
        "unittest.output_test(returned_value, 4)\n",
        "print()"
      ],
      "metadata": {
        "id": "AeUE5H0so6oP",
        "colab": {
          "base_uri": "https://localhost:8080/"
        },
        "outputId": "38041a6a-e615-40fc-92c1-5d3a88490785"
      },
      "execution_count": 26,
      "outputs": [
        {
          "output_type": "stream",
          "name": "stdout",
          "text": [
            "==============Test Case 1=============\n",
            "Sum of Nodes: 4\n",
            "Accepted\n",
            "\n"
          ]
        }
      ]
    },
    {
      "cell_type": "markdown",
      "source": [
        "Bonus Task: ID Generator"
      ],
      "metadata": {
        "id": "pNihvj0mqZGx"
      }
    },
    {
      "cell_type": "code",
      "source": [
        "def idGenerator(head1, head2, head3):\n",
        "  #TO DO\n",
        "\n",
        "\n",
        "print('==============Test Case 1=============')\n",
        "head1 = createList(np.array([0,3,2,2]))\n",
        "head2 = createList(np.array([5,2,2,1]))\n",
        "head3 = createList(np.array([4,3,2,1]))\n",
        "\n",
        "print(\"Linked List 1:\")\n",
        "printLinkedList(head1)\n",
        "print(\"Linked List 2:\")\n",
        "printLinkedList(head2)\n",
        "print(\"Linked List 3:\")\n",
        "printLinkedList(head3)\n",
        "\n",
        "result = idGenerator(head1, head2, head3)\n",
        "print(\"New ID:\")\n",
        "printLinkedList(result)    #This should print  2 → 2 → 3 → 0 → 9 → 5 → 4 → 2\n",
        "\n",
        "\n",
        "print('==============Test Case 2=============')\n",
        "head1 = createList(np.array([0,3,9,1]))\n",
        "head2 = createList(np.array([3,6,5,7]))\n",
        "head3 = createList(np.array([2,4,3,8]))\n",
        "\n",
        "print(\"Linked List 1:\")\n",
        "printLinkedList(head1)\n",
        "print(\"Linked List 2:\")\n",
        "printLinkedList(head2)\n",
        "print(\"Linked List 3:\")\n",
        "printLinkedList(head3)\n",
        "\n",
        "result = idGenerator(head1, head2, head3)\n",
        "print(\"New ID:\")\n",
        "printLinkedList(result)    #This should print 1 → 9 → 3 → 0 → 5 → 0 → 8 → 5"
      ],
      "metadata": {
        "id": "RxtRlCVCqcHV"
      },
      "execution_count": null,
      "outputs": []
    }
  ]
}