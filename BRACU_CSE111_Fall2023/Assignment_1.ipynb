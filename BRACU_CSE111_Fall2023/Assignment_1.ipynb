{
  "nbformat": 4,
  "nbformat_minor": 0,
  "metadata": {
    "colab": {
      "provenance": []
    },
    "kernelspec": {
      "name": "python3",
      "display_name": "Python 3"
    },
    "language_info": {
      "name": "python"
    }
  },
  "cells": [
    {
      "cell_type": "markdown",
      "source": [
        "STRING"
      ],
      "metadata": {
        "id": "-JgYiWQIb7m_"
      }
    },
    {
      "cell_type": "code",
      "execution_count": null,
      "metadata": {
        "colab": {
          "base_uri": "https://localhost:8080/"
        },
        "id": "8kHkue6SGEn1",
        "outputId": "5951b5a2-056b-4a2c-838f-00ea0f64d9d4"
      },
      "outputs": [
        {
          "output_type": "stream",
          "name": "stdout",
          "text": [
            "HOusE\n",
            "HOUSE\n"
          ]
        }
      ],
      "source": [
        "#task1\n",
        "\n",
        "inp =input()\n",
        "up = 0\n",
        "low = 0\n",
        "for i in inp:\n",
        "    if i.isupper():\n",
        "        up += 1\n",
        "    else:\n",
        "        low += 1\n",
        "\n",
        "if up > low :\n",
        "    print(inp.upper())\n",
        "\n",
        "else:\n",
        "    print(inp.lower())\n"
      ]
    },
    {
      "cell_type": "code",
      "source": [
        "# task1\n",
        "\n",
        "inp =input()\n",
        "up = 0\n",
        "low = 0\n",
        "str1 = \"\"\n",
        "for i in inp:\n",
        "    if 65<= ord(i) <= 90:\n",
        "        up += 1\n",
        "    else:\n",
        "        low += 1\n",
        "\n",
        "if up > low :\n",
        "    for i in inp:\n",
        "        if 97 <= ord(i) <= 122 :\n",
        "            str1 += chr(ord(i) - 32)\n",
        "        else:\n",
        "            str1 += i\n",
        "\n",
        "print(str1)\n"
      ],
      "metadata": {
        "colab": {
          "base_uri": "https://localhost:8080/"
        },
        "id": "8-Ob5yElNnsa",
        "outputId": "41626198-1f42-437b-9e25-9ec779859f29"
      },
      "execution_count": null,
      "outputs": [
        {
          "output_type": "stream",
          "name": "stdout",
          "text": [
            "HOusE\n",
            "HOUSE\n",
            "3\n",
            "2\n"
          ]
        }
      ]
    },
    {
      "cell_type": "code",
      "source": [
        "\n",
        "\n"
      ],
      "metadata": {
        "id": "0wv-WYGbZ7pl"
      },
      "execution_count": null,
      "outputs": []
    },
    {
      "cell_type": "code",
      "source": [
        "#task2\n",
        "str = input()\n",
        "num = 0\n",
        "wrd = 0\n",
        "for i in str:\n",
        "    if \"A\" <= i <= \"Z\" or \"a\" <= i <= \"z\":\n",
        "        wrd+= 1\n",
        "    else:\n",
        "        num += 1\n",
        "\n",
        "if num and wrd:\n",
        "    print(\"MIXED\")\n",
        "elif num:\n",
        "    print(\"NUMBER\")\n",
        "else:\n",
        "    print(\"WORD\")\n",
        "\n",
        "\n"
      ],
      "metadata": {
        "colab": {
          "base_uri": "https://localhost:8080/"
        },
        "id": "OOZrewf_W6cA",
        "outputId": "62c42266-52b8-439e-e1d1-a2e388f36eef"
      },
      "execution_count": null,
      "outputs": [
        {
          "output_type": "stream",
          "name": "stdout",
          "text": [
            "jhg231j213\n",
            "MIXED\n"
          ]
        }
      ]
    },
    {
      "cell_type": "code",
      "source": [
        "#task3\n",
        "\n",
        "str = input()\n",
        "first_upper = 0\n",
        "\n",
        "last_upper = 0\n",
        "for i in range(len(str)):\n",
        "    if \"A\" <= str[i] <= \"Z\":\n",
        "        first_upper += i\n",
        "        break\n",
        "\n",
        "for i in range(len(str) - 1, -1, -1):\n",
        "    if \"A\" <= str[i] <= \"Z\":\n",
        "        last_upper += i\n",
        "        break\n",
        "\n",
        "if last_upper - first_upper == 1 :\n",
        "    print(\"BLANK\")\n",
        "\n",
        "else:\n",
        "    print(str[first_upper + 1:last_upper])\n",
        "\n",
        "\n",
        "\n"
      ],
      "metadata": {
        "colab": {
          "base_uri": "https://localhost:8080/"
        },
        "id": "HSTk2sOkZ2PV",
        "outputId": "6b68bd25-714a-47bc-ab7c-c859dfef0773"
      },
      "execution_count": null,
      "outputs": [
        {
          "output_type": "stream",
          "name": "stdout",
          "text": [
            "coDIng\n",
            "BLANK\n"
          ]
        }
      ]
    },
    {
      "cell_type": "code",
      "source": [
        "#task4\n",
        "\n",
        "str1 = \"dean\"\n",
        "str2 = \"tom\"\n",
        "new_st =\"\"\n",
        "\n",
        "\n",
        "for i in str1:\n",
        "    if i in str2:\n",
        "        new_st += i\n",
        "\n",
        "for i in str2:\n",
        "    if i in str1:\n",
        "        new_st += i\n",
        "\n",
        "if new_st:\n",
        "\n",
        "    print(new_st)\n",
        "\n",
        "else:\n",
        "    print(\"Nothing in common.\")"
      ],
      "metadata": {
        "colab": {
          "base_uri": "https://localhost:8080/"
        },
        "id": "3NRmOYUXigk4",
        "outputId": "72ebc423-af10-477a-b50a-4101f0351b2e"
      },
      "execution_count": null,
      "outputs": [
        {
          "output_type": "stream",
          "name": "stdout",
          "text": [
            "Nothing in common.\n"
          ]
        }
      ]
    },
    {
      "cell_type": "code",
      "source": [
        "#task5\n",
        "\n",
        "password = input()\n",
        "\n",
        "low = False\n",
        "upp = False\n",
        "dig = False\n",
        "spc = False\n",
        "\n",
        "special = \"_ , $ , #, @\"\n",
        "\n",
        "miss_rules = []\n",
        "\n",
        "for i in password:\n",
        "    if \"A\" <= i <= \"Z\" :\n",
        "        upp = True\n",
        "    elif  \"a\" <= i <= \"z\":\n",
        "        low = True\n",
        "    elif i in special:\n",
        "        spc = True\n",
        "    else:\n",
        "        dig = True\n",
        "\n",
        "\n",
        "if low == False :\n",
        "    miss_rules.append(\"Lowercase missing\")\n",
        "\n",
        "\n",
        "if upp == False :\n",
        "    miss_rules.append(\"Uppercase character missing\")\n",
        "\n",
        "\n",
        "if dig == False :\n",
        "    miss_rules.append(\"Digit missing\")\n",
        "\n",
        "\n",
        "if spc == False :\n",
        "    miss_rules.append(\"Special character missing\")\n",
        "\n",
        "if not miss_rules:\n",
        "    print(\"OK\")\n",
        "\n",
        "else:\n",
        "    for i in miss_rules:\n",
        "        print(i, end = \", \")"
      ],
      "metadata": {
        "colab": {
          "base_uri": "https://localhost:8080/"
        },
        "id": "7hlvjs0m6uPF",
        "outputId": "c39f89cb-1f21-4d85-ea52-0baf67a561b7"
      },
      "execution_count": null,
      "outputs": [
        {
          "output_type": "stream",
          "name": "stdout",
          "text": [
            "OhMyBR@CU20\n",
            "OK\n"
          ]
        }
      ]
    },
    {
      "cell_type": "markdown",
      "source": [
        "LIST"
      ],
      "metadata": {
        "id": "MnjqLDnRG9SC"
      }
    },
    {
      "cell_type": "code",
      "source": [
        "#task1\n",
        "\n",
        "inp = []\n",
        "lst2 =[]\n",
        "while True:\n",
        "    x = input()\n",
        "    if x == \"STOP\":\n",
        "        break\n",
        "    inp.append(int(x))\n",
        "    if int(x) not in lst2:\n",
        "        lst2.append(int(x))\n",
        "\n",
        "\n",
        "for i in lst2:\n",
        "    print(f\"{i} - {inp.count(i)} times\")\n",
        "\n",
        "\n",
        "\n"
      ],
      "metadata": {
        "colab": {
          "base_uri": "https://localhost:8080/"
        },
        "id": "Je72d9zYHAdm",
        "outputId": "c8c13005-efbc-41cd-fd7b-33a1a5374590"
      },
      "execution_count": null,
      "outputs": [
        {
          "output_type": "stream",
          "name": "stdout",
          "text": [
            "10\n",
            "20\n",
            "20\n",
            "STOP\n",
            "10 - 1 times\n",
            "20 - 2 times\n"
          ]
        }
      ]
    },
    {
      "cell_type": "code",
      "source": [],
      "metadata": {
        "id": "AWqWh1XxOa-C"
      },
      "execution_count": null,
      "outputs": []
    },
    {
      "cell_type": "code",
      "source": [
        "#lst2\n",
        "N = int(input())\n",
        "summation = 0\n",
        "lst2 = []\n",
        "for i in range(N):\n",
        "\n",
        "    inp1 = input().split()\n",
        "    lst1 = [int(i) for i in inp1]\n",
        "    if sum(lst1) > summation:\n",
        "        summation = sum(lst1)\n",
        "        lst2 = lst1\n",
        "\n",
        "print(summation)\n",
        "print(lst2)\n",
        "\n"
      ],
      "metadata": {
        "colab": {
          "base_uri": "https://localhost:8080/"
        },
        "id": "Rfo_f1vGXVM-",
        "outputId": "d4a33855-e5fd-486c-d9bb-62a31c432d66"
      },
      "execution_count": null,
      "outputs": [
        {
          "output_type": "stream",
          "name": "stdout",
          "text": [
            "4\n",
            "1 2 3\n",
            "4 5 6\n",
            "10 11 12\n",
            "7 8 9\n",
            "33\n",
            "[10, 11, 12]\n"
          ]
        }
      ]
    },
    {
      "cell_type": "code",
      "source": [
        "#task3\n",
        "\n",
        "inp1 = input().split()\n",
        "lst1 = [int(i) for i in inp1]\n",
        "\n",
        "inp2 = input().split()\n",
        "lst2 = [int(i) for i in inp2]\n",
        "\n",
        "\n",
        "print([i*j for i in lst1 for j in lst2])\n"
      ],
      "metadata": {
        "colab": {
          "base_uri": "https://localhost:8080/"
        },
        "id": "wUNZcfm2PC_e",
        "outputId": "32b0aadd-fe81-40e8-c1c1-e0f291b2bc49"
      },
      "execution_count": null,
      "outputs": [
        {
          "output_type": "stream",
          "name": "stdout",
          "text": [
            "2 3 6\n",
            "3 4 5\n",
            "[6, 8, 10, 9, 12, 15, 18, 24, 30]\n"
          ]
        }
      ]
    },
    {
      "cell_type": "code",
      "source": [
        "\n",
        "#task4\n",
        "result = []\n",
        "\n",
        "user_input = input()\n",
        "while user_input != \"STOP\":\n",
        "    List = [int(num) for num in user_input.split()]\n",
        "\n",
        "    ref_list = [num for num in range(1, len(List))]\n",
        "    abs_diff = []\n",
        "\n",
        "    for i in range(len(List) - 1):\n",
        "        elem = List[i] - List[i + 1]\n",
        "        elem = abs(elem)\n",
        "        abs_diff.append(elem)\n",
        "\n",
        "    if sorted(ref_list) == sorted(abs_diff):\n",
        "        result.append(\"UB Jumper\")\n",
        "    else:\n",
        "        result.append(\"Not UB Jumper\")\n",
        "\n",
        "    user_input = input()\n",
        "\n",
        "for output in result:\n",
        "    print(output)\n"
      ],
      "metadata": {
        "colab": {
          "base_uri": "https://localhost:8080/"
        },
        "id": "8Z-z4sVFsdLY",
        "outputId": "9cae17ef-c6a4-48e0-db50-cdbb6030262a"
      },
      "execution_count": null,
      "outputs": [
        {
          "output_type": "stream",
          "name": "stdout",
          "text": [
            "1 4 2 3\n",
            "2 1 4 6 10\n",
            "1 4 2 -1 6\n",
            "STOP\n",
            "UB Jumper\n",
            "UB Jumper\n",
            "Not UB Jumper\n"
          ]
        }
      ]
    },
    {
      "cell_type": "code",
      "source": [
        "#task 5\n",
        "\n",
        "\n",
        "n, k = map(int, input().split())\n",
        "participation_counts = list(map(int, input().split()))\n",
        "\n",
        "teams = 0\n",
        "for i in range(n):\n",
        "    if participation_counts[i] <= 5 - k:\n",
        "        teams += 1\n",
        "\n",
        "result = teams // 3\n",
        "\n",
        "print(result)\n"
      ],
      "metadata": {
        "colab": {
          "base_uri": "https://localhost:8080/"
        },
        "id": "D4ESEnnrx5I0",
        "outputId": "ae90e8c3-9a8e-4926-bfda-0cbe6ba020fb"
      },
      "execution_count": null,
      "outputs": [
        {
          "output_type": "stream",
          "name": "stdout",
          "text": [
            "6 4\n",
            "0 1 2 3 4 5\n",
            "0\n"
          ]
        }
      ]
    },
    {
      "cell_type": "code",
      "source": [],
      "metadata": {
        "id": "x72cn4Qr-t9b"
      },
      "execution_count": null,
      "outputs": []
    },
    {
      "cell_type": "markdown",
      "source": [
        "Dictionary & Tuple"
      ],
      "metadata": {
        "id": "Kk0TW2rLj8aY"
      }
    },
    {
      "cell_type": "code",
      "source": [
        "#task1\n",
        "\n",
        "a=input().split(\", \")\n",
        "b=input().split(\", \")\n",
        "d={}\n",
        "for i in a:\n",
        "    p,q=i.split(\": \")\n",
        "    d[p]=int(q)\n",
        "for i in b:\n",
        "    x,y=i.split(\": \")\n",
        "    if x not in d:\n",
        "        d[x]=int(y)\n",
        "    else:\n",
        "        d[x]+=int(y)\n",
        "print (d)\n",
        "l = []\n",
        "for i in d:\n",
        "    if d[i] not in l:\n",
        "        l.append(d[i])\n",
        "l=tuple(sorted(l))\n",
        "print(l)"
      ],
      "metadata": {
        "colab": {
          "base_uri": "https://localhost:8080/"
        },
        "id": "1m9TOWrZkJqs",
        "outputId": "814025d4-a235-4ad3-d775-e1d415bfc306"
      },
      "execution_count": 6,
      "outputs": [
        {
          "output_type": "stream",
          "name": "stdout",
          "text": [
            "a: 300, b: 200, d: 400, e: 200\n",
            "a: 300, b: 200, d: 400, e: 200\n",
            "{'a': 600, 'b': 400, 'd': 800, 'e': 400}\n",
            "(400, 600, 800)\n"
          ]
        }
      ]
    },
    {
      "cell_type": "code",
      "source": [
        "#task2\n",
        "\n",
        "dict1 = {}\n",
        "while True:\n",
        "    inp = input()\n",
        "    if inp == \"STOP\":\n",
        "        break\n",
        "\n",
        "    else:\n",
        "        if inp not in dict1:\n",
        "            dict1[inp] = 1\n",
        "        else:\n",
        "             dict1[inp] += 1\n",
        "\n",
        "for key,value in dict1.items():\n",
        "    print(f\"{key} - {value} times\")"
      ],
      "metadata": {
        "colab": {
          "base_uri": "https://localhost:8080/"
        },
        "id": "a6ndD8LjtxMe",
        "outputId": "c344dda9-01eb-4d8d-b0a1-319e4a5f7831"
      },
      "execution_count": 14,
      "outputs": [
        {
          "output_type": "stream",
          "name": "stdout",
          "text": [
            "10\n",
            "20\n",
            "20\n",
            "30\n",
            "10\n",
            "50\n",
            "90\n",
            "STOP\n",
            "10 - 2 times\n",
            "20 - 2 times\n",
            "30 - 1 times\n",
            "50 - 1 times\n",
            "90 - 1 times\n"
          ]
        }
      ]
    },
    {
      "cell_type": "code",
      "source": [
        "#task3\n",
        "a = input().split(\",\")\n",
        "d = {}\n",
        "for i in a:\n",
        "    x,y = i.split(\":\")\n",
        "    if y not in d:\n",
        "        d[y] = [x]\n",
        "    else:\n",
        "        d[y].append(x)\n",
        "\n",
        "print(d)\n"
      ],
      "metadata": {
        "colab": {
          "base_uri": "https://localhost:8080/"
        },
        "id": "Wg0OyhI73p7r",
        "outputId": "d7355f92-ed6b-40d0-abb8-a010af298e5a"
      },
      "execution_count": 15,
      "outputs": [
        {
          "output_type": "stream",
          "name": "stdout",
          "text": [
            "key1 : value1, key2 : value2, key3 : value1\n",
            "{' value1': ['key1 ', ' key3 '], ' value2': [' key2 ']}\n"
          ]
        }
      ]
    },
    {
      "cell_type": "code",
      "source": [
        "#task4\n",
        "\n",
        "dct={\"1\":\".,?!:\", \"2\":\"ABC\", \"3\":\"DEF\", \"4\":\"GHI\", \"5\":\"JKL\", \"6\":\"MNO\", \"7\":\"PQRS\", \"8\":\"TUV\", \"9\": \"WXYZ\" , \"0\":\" \"}\n",
        "a=input().upper()\n",
        "s=\"\"\n",
        "\n",
        "for i in a:\n",
        "    for j in d:\n",
        "        if i in d[j]:\n",
        "            c=0\n",
        "            for k in d[j]:\n",
        "                c+=1\n",
        "                if i==k:\n",
        "                    break\n",
        "            s+=(c*str(j))\n",
        "print(s)"
      ],
      "metadata": {
        "colab": {
          "base_uri": "https://localhost:8080/"
        },
        "id": "fIgGzMB-403Q",
        "outputId": "54ec3bd7-ea6a-4ced-e82b-d8e0b0cc5334"
      },
      "execution_count": 26,
      "outputs": [
        {
          "output_type": "stream",
          "name": "stdout",
          "text": [
            "Hello, World!\n",
            "4433555555666110966677755531111\n"
          ]
        }
      ]
    },
    {
      "cell_type": "code",
      "source": [
        "#task4\n",
        "dct={\"1\":\".,?!:\", \"2\":\"ABC\", \"3\":\"DEF\", \"4\":\"GHI\", \"5\":\"JKL\", \"6\":\"MNO\", \"7\":\"PQRS\", \"8\":\"TUV\", \"9\": \"WXYZ\" , \"0\":\" \"}\n",
        "inp=input().upper()\n",
        "press=\"\"\n",
        "\n",
        "for i in inp:\n",
        "    for key, value in dct.items():\n",
        "        if i in value:\n",
        "            press += key * (value.index(i) + 1)\n",
        "\n",
        "print(press)\n"
      ],
      "metadata": {
        "colab": {
          "base_uri": "https://localhost:8080/"
        },
        "id": "5dvT2CCW8bjc",
        "outputId": "b76d9466-6500-4130-cbd6-551ff4e120a7"
      },
      "execution_count": 23,
      "outputs": [
        {
          "output_type": "stream",
          "name": "stdout",
          "text": [
            "Hello, World!\n",
            "4433555555666110966677755531111\n"
          ]
        }
      ]
    }
  ]
}